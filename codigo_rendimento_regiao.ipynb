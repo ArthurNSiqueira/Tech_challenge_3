{
  "nbformat": 4,
  "nbformat_minor": 0,
  "metadata": {
    "colab": {
      "cell_execution_strategy": "setup",
      "provenance": [],
      "name": "codigo_rendimento_regiao"
    },
    "kernelspec": {
      "name": "python3",
      "display_name": "Python 3"
    },
    "language_info": {
      "name": "python"
    }
  },
  "cells": [
    {
      "cell_type": "code",
      "source": [
        "import pandas as pd\n",
        "from google.cloud import bigquery\n",
        "\n",
        "import matplotlib.pyplot as plt\n",
        "\n",
        "client = bigquery.Client()\n"
      ],
      "metadata": {
        "id": "Ck5KWIOOZrHi",
        "executionInfo": {
          "status": "ok",
          "timestamp": 1727813940402,
          "user_tz": 180,
          "elapsed": 1378,
          "user": {
            "displayName": "",
            "userId": ""
          }
        }
      },
      "execution_count": 1,
      "outputs": []
    },
    {
      "cell_type": "code",
      "source": [
        "rendimento = \"\"\"\n",
        "select\n",
        " pk_indicador\n",
        ",indicador\n",
        ",abertura_territorio\n",
        ",categoria_abertura_1\n",
        ",sum(cast(replace(julho,' ','') as int)) as julho\n",
        " from `pnad_covid.tb_regiao`\n",
        "where\n",
        "tipo_dado = 'quantidade' and\n",
        "pk_indicador = 112\n",
        "and variavel_abertura_1 like 'Rendimento real%'\n",
        "group by\n",
        "pk_indicador\n",
        ",indicador\n",
        ",abertura_territorio\n",
        ",categoria_abertura_1\n",
        "\n",
        "\n",
        "\"\"\"\n",
        "\n",
        "df_rendimento= client.query(rendimento).to_dataframe()"
      ],
      "metadata": {
        "id": "peuJDTSHZtVN",
        "executionInfo": {
          "status": "ok",
          "timestamp": 1727813942101,
          "user_tz": 180,
          "elapsed": 1701,
          "user": {
            "displayName": "",
            "userId": ""
          }
        }
      },
      "execution_count": 2,
      "outputs": []
    },
    {
      "cell_type": "code",
      "source": [
        "df_rendimento"
      ],
      "metadata": {
        "colab": {
          "base_uri": "https://localhost:8080/",
          "height": 834
        },
        "id": "1JU1PqreZ77j",
        "executionInfo": {
          "status": "ok",
          "timestamp": 1727813942101,
          "user_tz": 180,
          "elapsed": 9,
          "user": {
            "displayName": "",
            "userId": ""
          }
        },
        "outputId": "d268c272-28a2-492d-e21f-58dbdee6a4b4"
      },
      "execution_count": 3,
      "outputs": [
        {
          "output_type": "execute_result",
          "data": {
            "text/plain": [
              "    pk_indicador                                          indicador  \\\n",
              "0            112  Pessoas que fizeram algum teste para saber se ...   \n",
              "1            112  Pessoas que fizeram algum teste para saber se ...   \n",
              "2            112  Pessoas que fizeram algum teste para saber se ...   \n",
              "3            112  Pessoas que fizeram algum teste para saber se ...   \n",
              "4            112  Pessoas que fizeram algum teste para saber se ...   \n",
              "5            112  Pessoas que fizeram algum teste para saber se ...   \n",
              "6            112  Pessoas que fizeram algum teste para saber se ...   \n",
              "7            112  Pessoas que fizeram algum teste para saber se ...   \n",
              "8            112  Pessoas que fizeram algum teste para saber se ...   \n",
              "9            112  Pessoas que fizeram algum teste para saber se ...   \n",
              "10           112  Pessoas que fizeram algum teste para saber se ...   \n",
              "11           112  Pessoas que fizeram algum teste para saber se ...   \n",
              "12           112  Pessoas que fizeram algum teste para saber se ...   \n",
              "13           112  Pessoas que fizeram algum teste para saber se ...   \n",
              "14           112  Pessoas que fizeram algum teste para saber se ...   \n",
              "15           112  Pessoas que fizeram algum teste para saber se ...   \n",
              "16           112  Pessoas que fizeram algum teste para saber se ...   \n",
              "17           112  Pessoas que fizeram algum teste para saber se ...   \n",
              "18           112  Pessoas que fizeram algum teste para saber se ...   \n",
              "19           112  Pessoas que fizeram algum teste para saber se ...   \n",
              "20           112  Pessoas que fizeram algum teste para saber se ...   \n",
              "21           112  Pessoas que fizeram algum teste para saber se ...   \n",
              "22           112  Pessoas que fizeram algum teste para saber se ...   \n",
              "23           112  Pessoas que fizeram algum teste para saber se ...   \n",
              "24           112  Pessoas que fizeram algum teste para saber se ...   \n",
              "\n",
              "   abertura_territorio             categoria_abertura_1  julho  \n",
              "0             Nordeste       4 ou mais Salários Mínimos    218  \n",
              "1                Norte       4 ou mais Salários Mínimos     66  \n",
              "2          CentroOeste       4 ou mais Salários Mínimos    197  \n",
              "3                  Sul       4 ou mais Salários Mínimos    140  \n",
              "4              Sudeste       4 ou mais Salários Mínimos    848  \n",
              "5          CentroOeste      Menos de 1/2 Salário Mínimo    150  \n",
              "6              Sudeste      Menos de 1/2 Salário Mínimo    557  \n",
              "7             Nordeste      Menos de 1/2 Salário Mínimo    734  \n",
              "8                Norte      Menos de 1/2 Salário Mínimo    300  \n",
              "9                  Sul      Menos de 1/2 Salário Mínimo    135  \n",
              "10               Norte  1 a menos de 2 Salários Mínimos    316  \n",
              "11                 Sul  1 a menos de 2 Salários Mínimos    512  \n",
              "12         CentroOeste  1 a menos de 2 Salários Mínimos    457  \n",
              "13             Sudeste  1 a menos de 2 Salários Mínimos   1756  \n",
              "14            Nordeste  1 a menos de 2 Salários Mínimos   1007  \n",
              "15         CentroOeste  1/2 a menos de 1 Salário Mínimo    409  \n",
              "16            Nordeste  1/2 a menos de 1 Salário Mínimo   1266  \n",
              "17             Sudeste  1/2 a menos de 1 Salário Mínimo   1420  \n",
              "18                 Sul  1/2 a menos de 1 Salário Mínimo    319  \n",
              "19               Norte  1/2 a menos de 1 Salário Mínimo    459  \n",
              "20         CentroOeste  2 a menos de 4 Salários Mínimos    238  \n",
              "21             Sudeste  2 a menos de 4 Salários Mínimos    947  \n",
              "22               Norte  2 a menos de 4 Salários Mínimos    169  \n",
              "23            Nordeste  2 a menos de 4 Salários Mínimos    397  \n",
              "24                 Sul  2 a menos de 4 Salários Mínimos    291  "
            ],
            "text/html": [
              "\n",
              "  <div id=\"df-f5ea7ba2-7adb-4f22-a327-b2caab162b4e\" class=\"colab-df-container\">\n",
              "    <div>\n",
              "<style scoped>\n",
              "    .dataframe tbody tr th:only-of-type {\n",
              "        vertical-align: middle;\n",
              "    }\n",
              "\n",
              "    .dataframe tbody tr th {\n",
              "        vertical-align: top;\n",
              "    }\n",
              "\n",
              "    .dataframe thead th {\n",
              "        text-align: right;\n",
              "    }\n",
              "</style>\n",
              "<table border=\"1\" class=\"dataframe\">\n",
              "  <thead>\n",
              "    <tr style=\"text-align: right;\">\n",
              "      <th></th>\n",
              "      <th>pk_indicador</th>\n",
              "      <th>indicador</th>\n",
              "      <th>abertura_territorio</th>\n",
              "      <th>categoria_abertura_1</th>\n",
              "      <th>julho</th>\n",
              "    </tr>\n",
              "  </thead>\n",
              "  <tbody>\n",
              "    <tr>\n",
              "      <th>0</th>\n",
              "      <td>112</td>\n",
              "      <td>Pessoas que fizeram algum teste para saber se ...</td>\n",
              "      <td>Nordeste</td>\n",
              "      <td>4 ou mais Salários Mínimos</td>\n",
              "      <td>218</td>\n",
              "    </tr>\n",
              "    <tr>\n",
              "      <th>1</th>\n",
              "      <td>112</td>\n",
              "      <td>Pessoas que fizeram algum teste para saber se ...</td>\n",
              "      <td>Norte</td>\n",
              "      <td>4 ou mais Salários Mínimos</td>\n",
              "      <td>66</td>\n",
              "    </tr>\n",
              "    <tr>\n",
              "      <th>2</th>\n",
              "      <td>112</td>\n",
              "      <td>Pessoas que fizeram algum teste para saber se ...</td>\n",
              "      <td>CentroOeste</td>\n",
              "      <td>4 ou mais Salários Mínimos</td>\n",
              "      <td>197</td>\n",
              "    </tr>\n",
              "    <tr>\n",
              "      <th>3</th>\n",
              "      <td>112</td>\n",
              "      <td>Pessoas que fizeram algum teste para saber se ...</td>\n",
              "      <td>Sul</td>\n",
              "      <td>4 ou mais Salários Mínimos</td>\n",
              "      <td>140</td>\n",
              "    </tr>\n",
              "    <tr>\n",
              "      <th>4</th>\n",
              "      <td>112</td>\n",
              "      <td>Pessoas que fizeram algum teste para saber se ...</td>\n",
              "      <td>Sudeste</td>\n",
              "      <td>4 ou mais Salários Mínimos</td>\n",
              "      <td>848</td>\n",
              "    </tr>\n",
              "    <tr>\n",
              "      <th>5</th>\n",
              "      <td>112</td>\n",
              "      <td>Pessoas que fizeram algum teste para saber se ...</td>\n",
              "      <td>CentroOeste</td>\n",
              "      <td>Menos de 1/2 Salário Mínimo</td>\n",
              "      <td>150</td>\n",
              "    </tr>\n",
              "    <tr>\n",
              "      <th>6</th>\n",
              "      <td>112</td>\n",
              "      <td>Pessoas que fizeram algum teste para saber se ...</td>\n",
              "      <td>Sudeste</td>\n",
              "      <td>Menos de 1/2 Salário Mínimo</td>\n",
              "      <td>557</td>\n",
              "    </tr>\n",
              "    <tr>\n",
              "      <th>7</th>\n",
              "      <td>112</td>\n",
              "      <td>Pessoas que fizeram algum teste para saber se ...</td>\n",
              "      <td>Nordeste</td>\n",
              "      <td>Menos de 1/2 Salário Mínimo</td>\n",
              "      <td>734</td>\n",
              "    </tr>\n",
              "    <tr>\n",
              "      <th>8</th>\n",
              "      <td>112</td>\n",
              "      <td>Pessoas que fizeram algum teste para saber se ...</td>\n",
              "      <td>Norte</td>\n",
              "      <td>Menos de 1/2 Salário Mínimo</td>\n",
              "      <td>300</td>\n",
              "    </tr>\n",
              "    <tr>\n",
              "      <th>9</th>\n",
              "      <td>112</td>\n",
              "      <td>Pessoas que fizeram algum teste para saber se ...</td>\n",
              "      <td>Sul</td>\n",
              "      <td>Menos de 1/2 Salário Mínimo</td>\n",
              "      <td>135</td>\n",
              "    </tr>\n",
              "    <tr>\n",
              "      <th>10</th>\n",
              "      <td>112</td>\n",
              "      <td>Pessoas que fizeram algum teste para saber se ...</td>\n",
              "      <td>Norte</td>\n",
              "      <td>1 a menos de 2 Salários Mínimos</td>\n",
              "      <td>316</td>\n",
              "    </tr>\n",
              "    <tr>\n",
              "      <th>11</th>\n",
              "      <td>112</td>\n",
              "      <td>Pessoas que fizeram algum teste para saber se ...</td>\n",
              "      <td>Sul</td>\n",
              "      <td>1 a menos de 2 Salários Mínimos</td>\n",
              "      <td>512</td>\n",
              "    </tr>\n",
              "    <tr>\n",
              "      <th>12</th>\n",
              "      <td>112</td>\n",
              "      <td>Pessoas que fizeram algum teste para saber se ...</td>\n",
              "      <td>CentroOeste</td>\n",
              "      <td>1 a menos de 2 Salários Mínimos</td>\n",
              "      <td>457</td>\n",
              "    </tr>\n",
              "    <tr>\n",
              "      <th>13</th>\n",
              "      <td>112</td>\n",
              "      <td>Pessoas que fizeram algum teste para saber se ...</td>\n",
              "      <td>Sudeste</td>\n",
              "      <td>1 a menos de 2 Salários Mínimos</td>\n",
              "      <td>1756</td>\n",
              "    </tr>\n",
              "    <tr>\n",
              "      <th>14</th>\n",
              "      <td>112</td>\n",
              "      <td>Pessoas que fizeram algum teste para saber se ...</td>\n",
              "      <td>Nordeste</td>\n",
              "      <td>1 a menos de 2 Salários Mínimos</td>\n",
              "      <td>1007</td>\n",
              "    </tr>\n",
              "    <tr>\n",
              "      <th>15</th>\n",
              "      <td>112</td>\n",
              "      <td>Pessoas que fizeram algum teste para saber se ...</td>\n",
              "      <td>CentroOeste</td>\n",
              "      <td>1/2 a menos de 1 Salário Mínimo</td>\n",
              "      <td>409</td>\n",
              "    </tr>\n",
              "    <tr>\n",
              "      <th>16</th>\n",
              "      <td>112</td>\n",
              "      <td>Pessoas que fizeram algum teste para saber se ...</td>\n",
              "      <td>Nordeste</td>\n",
              "      <td>1/2 a menos de 1 Salário Mínimo</td>\n",
              "      <td>1266</td>\n",
              "    </tr>\n",
              "    <tr>\n",
              "      <th>17</th>\n",
              "      <td>112</td>\n",
              "      <td>Pessoas que fizeram algum teste para saber se ...</td>\n",
              "      <td>Sudeste</td>\n",
              "      <td>1/2 a menos de 1 Salário Mínimo</td>\n",
              "      <td>1420</td>\n",
              "    </tr>\n",
              "    <tr>\n",
              "      <th>18</th>\n",
              "      <td>112</td>\n",
              "      <td>Pessoas que fizeram algum teste para saber se ...</td>\n",
              "      <td>Sul</td>\n",
              "      <td>1/2 a menos de 1 Salário Mínimo</td>\n",
              "      <td>319</td>\n",
              "    </tr>\n",
              "    <tr>\n",
              "      <th>19</th>\n",
              "      <td>112</td>\n",
              "      <td>Pessoas que fizeram algum teste para saber se ...</td>\n",
              "      <td>Norte</td>\n",
              "      <td>1/2 a menos de 1 Salário Mínimo</td>\n",
              "      <td>459</td>\n",
              "    </tr>\n",
              "    <tr>\n",
              "      <th>20</th>\n",
              "      <td>112</td>\n",
              "      <td>Pessoas que fizeram algum teste para saber se ...</td>\n",
              "      <td>CentroOeste</td>\n",
              "      <td>2 a menos de 4 Salários Mínimos</td>\n",
              "      <td>238</td>\n",
              "    </tr>\n",
              "    <tr>\n",
              "      <th>21</th>\n",
              "      <td>112</td>\n",
              "      <td>Pessoas que fizeram algum teste para saber se ...</td>\n",
              "      <td>Sudeste</td>\n",
              "      <td>2 a menos de 4 Salários Mínimos</td>\n",
              "      <td>947</td>\n",
              "    </tr>\n",
              "    <tr>\n",
              "      <th>22</th>\n",
              "      <td>112</td>\n",
              "      <td>Pessoas que fizeram algum teste para saber se ...</td>\n",
              "      <td>Norte</td>\n",
              "      <td>2 a menos de 4 Salários Mínimos</td>\n",
              "      <td>169</td>\n",
              "    </tr>\n",
              "    <tr>\n",
              "      <th>23</th>\n",
              "      <td>112</td>\n",
              "      <td>Pessoas que fizeram algum teste para saber se ...</td>\n",
              "      <td>Nordeste</td>\n",
              "      <td>2 a menos de 4 Salários Mínimos</td>\n",
              "      <td>397</td>\n",
              "    </tr>\n",
              "    <tr>\n",
              "      <th>24</th>\n",
              "      <td>112</td>\n",
              "      <td>Pessoas que fizeram algum teste para saber se ...</td>\n",
              "      <td>Sul</td>\n",
              "      <td>2 a menos de 4 Salários Mínimos</td>\n",
              "      <td>291</td>\n",
              "    </tr>\n",
              "  </tbody>\n",
              "</table>\n",
              "</div>\n",
              "    <div class=\"colab-df-buttons\">\n",
              "\n",
              "  <div class=\"colab-df-container\">\n",
              "    <button class=\"colab-df-convert\" onclick=\"convertToInteractive('df-f5ea7ba2-7adb-4f22-a327-b2caab162b4e')\"\n",
              "            title=\"Convert this dataframe to an interactive table.\"\n",
              "            style=\"display:none;\">\n",
              "\n",
              "  <svg xmlns=\"http://www.w3.org/2000/svg\" height=\"24px\" viewBox=\"0 -960 960 960\">\n",
              "    <path d=\"M120-120v-720h720v720H120Zm60-500h600v-160H180v160Zm220 220h160v-160H400v160Zm0 220h160v-160H400v160ZM180-400h160v-160H180v160Zm440 0h160v-160H620v160ZM180-180h160v-160H180v160Zm440 0h160v-160H620v160Z\"/>\n",
              "  </svg>\n",
              "    </button>\n",
              "\n",
              "  <style>\n",
              "    .colab-df-container {\n",
              "      display:flex;\n",
              "      gap: 12px;\n",
              "    }\n",
              "\n",
              "    .colab-df-convert {\n",
              "      background-color: #E8F0FE;\n",
              "      border: none;\n",
              "      border-radius: 50%;\n",
              "      cursor: pointer;\n",
              "      display: none;\n",
              "      fill: #1967D2;\n",
              "      height: 32px;\n",
              "      padding: 0 0 0 0;\n",
              "      width: 32px;\n",
              "    }\n",
              "\n",
              "    .colab-df-convert:hover {\n",
              "      background-color: #E2EBFA;\n",
              "      box-shadow: 0px 1px 2px rgba(60, 64, 67, 0.3), 0px 1px 3px 1px rgba(60, 64, 67, 0.15);\n",
              "      fill: #174EA6;\n",
              "    }\n",
              "\n",
              "    .colab-df-buttons div {\n",
              "      margin-bottom: 4px;\n",
              "    }\n",
              "\n",
              "    [theme=dark] .colab-df-convert {\n",
              "      background-color: #3B4455;\n",
              "      fill: #D2E3FC;\n",
              "    }\n",
              "\n",
              "    [theme=dark] .colab-df-convert:hover {\n",
              "      background-color: #434B5C;\n",
              "      box-shadow: 0px 1px 3px 1px rgba(0, 0, 0, 0.15);\n",
              "      filter: drop-shadow(0px 1px 2px rgba(0, 0, 0, 0.3));\n",
              "      fill: #FFFFFF;\n",
              "    }\n",
              "  </style>\n",
              "\n",
              "    <script>\n",
              "      const buttonEl =\n",
              "        document.querySelector('#df-f5ea7ba2-7adb-4f22-a327-b2caab162b4e button.colab-df-convert');\n",
              "      buttonEl.style.display =\n",
              "        google.colab.kernel.accessAllowed ? 'block' : 'none';\n",
              "\n",
              "      async function convertToInteractive(key) {\n",
              "        const element = document.querySelector('#df-f5ea7ba2-7adb-4f22-a327-b2caab162b4e');\n",
              "        const dataTable =\n",
              "          await google.colab.kernel.invokeFunction('convertToInteractive',\n",
              "                                                    [key], {});\n",
              "        if (!dataTable) return;\n",
              "\n",
              "        const docLinkHtml = 'Like what you see? Visit the ' +\n",
              "          '<a target=\"_blank\" href=https://colab.research.google.com/notebooks/data_table.ipynb>data table notebook</a>'\n",
              "          + ' to learn more about interactive tables.';\n",
              "        element.innerHTML = '';\n",
              "        dataTable['output_type'] = 'display_data';\n",
              "        await google.colab.output.renderOutput(dataTable, element);\n",
              "        const docLink = document.createElement('div');\n",
              "        docLink.innerHTML = docLinkHtml;\n",
              "        element.appendChild(docLink);\n",
              "      }\n",
              "    </script>\n",
              "  </div>\n",
              "\n",
              "\n",
              "<div id=\"df-660be274-a106-45b4-b971-fc430a4fa954\">\n",
              "  <button class=\"colab-df-quickchart\" onclick=\"quickchart('df-660be274-a106-45b4-b971-fc430a4fa954')\"\n",
              "            title=\"Suggest charts\"\n",
              "            style=\"display:none;\">\n",
              "\n",
              "<svg xmlns=\"http://www.w3.org/2000/svg\" height=\"24px\"viewBox=\"0 0 24 24\"\n",
              "     width=\"24px\">\n",
              "    <g>\n",
              "        <path d=\"M19 3H5c-1.1 0-2 .9-2 2v14c0 1.1.9 2 2 2h14c1.1 0 2-.9 2-2V5c0-1.1-.9-2-2-2zM9 17H7v-7h2v7zm4 0h-2V7h2v10zm4 0h-2v-4h2v4z\"/>\n",
              "    </g>\n",
              "</svg>\n",
              "  </button>\n",
              "\n",
              "<style>\n",
              "  .colab-df-quickchart {\n",
              "      --bg-color: #E8F0FE;\n",
              "      --fill-color: #1967D2;\n",
              "      --hover-bg-color: #E2EBFA;\n",
              "      --hover-fill-color: #174EA6;\n",
              "      --disabled-fill-color: #AAA;\n",
              "      --disabled-bg-color: #DDD;\n",
              "  }\n",
              "\n",
              "  [theme=dark] .colab-df-quickchart {\n",
              "      --bg-color: #3B4455;\n",
              "      --fill-color: #D2E3FC;\n",
              "      --hover-bg-color: #434B5C;\n",
              "      --hover-fill-color: #FFFFFF;\n",
              "      --disabled-bg-color: #3B4455;\n",
              "      --disabled-fill-color: #666;\n",
              "  }\n",
              "\n",
              "  .colab-df-quickchart {\n",
              "    background-color: var(--bg-color);\n",
              "    border: none;\n",
              "    border-radius: 50%;\n",
              "    cursor: pointer;\n",
              "    display: none;\n",
              "    fill: var(--fill-color);\n",
              "    height: 32px;\n",
              "    padding: 0;\n",
              "    width: 32px;\n",
              "  }\n",
              "\n",
              "  .colab-df-quickchart:hover {\n",
              "    background-color: var(--hover-bg-color);\n",
              "    box-shadow: 0 1px 2px rgba(60, 64, 67, 0.3), 0 1px 3px 1px rgba(60, 64, 67, 0.15);\n",
              "    fill: var(--button-hover-fill-color);\n",
              "  }\n",
              "\n",
              "  .colab-df-quickchart-complete:disabled,\n",
              "  .colab-df-quickchart-complete:disabled:hover {\n",
              "    background-color: var(--disabled-bg-color);\n",
              "    fill: var(--disabled-fill-color);\n",
              "    box-shadow: none;\n",
              "  }\n",
              "\n",
              "  .colab-df-spinner {\n",
              "    border: 2px solid var(--fill-color);\n",
              "    border-color: transparent;\n",
              "    border-bottom-color: var(--fill-color);\n",
              "    animation:\n",
              "      spin 1s steps(1) infinite;\n",
              "  }\n",
              "\n",
              "  @keyframes spin {\n",
              "    0% {\n",
              "      border-color: transparent;\n",
              "      border-bottom-color: var(--fill-color);\n",
              "      border-left-color: var(--fill-color);\n",
              "    }\n",
              "    20% {\n",
              "      border-color: transparent;\n",
              "      border-left-color: var(--fill-color);\n",
              "      border-top-color: var(--fill-color);\n",
              "    }\n",
              "    30% {\n",
              "      border-color: transparent;\n",
              "      border-left-color: var(--fill-color);\n",
              "      border-top-color: var(--fill-color);\n",
              "      border-right-color: var(--fill-color);\n",
              "    }\n",
              "    40% {\n",
              "      border-color: transparent;\n",
              "      border-right-color: var(--fill-color);\n",
              "      border-top-color: var(--fill-color);\n",
              "    }\n",
              "    60% {\n",
              "      border-color: transparent;\n",
              "      border-right-color: var(--fill-color);\n",
              "    }\n",
              "    80% {\n",
              "      border-color: transparent;\n",
              "      border-right-color: var(--fill-color);\n",
              "      border-bottom-color: var(--fill-color);\n",
              "    }\n",
              "    90% {\n",
              "      border-color: transparent;\n",
              "      border-bottom-color: var(--fill-color);\n",
              "    }\n",
              "  }\n",
              "</style>\n",
              "\n",
              "  <script>\n",
              "    async function quickchart(key) {\n",
              "      const quickchartButtonEl =\n",
              "        document.querySelector('#' + key + ' button');\n",
              "      quickchartButtonEl.disabled = true;  // To prevent multiple clicks.\n",
              "      quickchartButtonEl.classList.add('colab-df-spinner');\n",
              "      try {\n",
              "        const charts = await google.colab.kernel.invokeFunction(\n",
              "            'suggestCharts', [key], {});\n",
              "      } catch (error) {\n",
              "        console.error('Error during call to suggestCharts:', error);\n",
              "      }\n",
              "      quickchartButtonEl.classList.remove('colab-df-spinner');\n",
              "      quickchartButtonEl.classList.add('colab-df-quickchart-complete');\n",
              "    }\n",
              "    (() => {\n",
              "      let quickchartButtonEl =\n",
              "        document.querySelector('#df-660be274-a106-45b4-b971-fc430a4fa954 button');\n",
              "      quickchartButtonEl.style.display =\n",
              "        google.colab.kernel.accessAllowed ? 'block' : 'none';\n",
              "    })();\n",
              "  </script>\n",
              "</div>\n",
              "    </div>\n",
              "  </div>\n"
            ]
          },
          "metadata": {},
          "execution_count": 3
        }
      ]
    },
    {
      "cell_type": "markdown",
      "source": [
        "##NORTE"
      ],
      "metadata": {
        "id": "LahbyP-ObZXu"
      }
    },
    {
      "cell_type": "code",
      "source": [
        "df_rendimento_norte = df_rendimento[df_rendimento['abertura_territorio']=='Norte']"
      ],
      "metadata": {
        "id": "dio526QEZ9qb",
        "executionInfo": {
          "status": "ok",
          "timestamp": 1727813942101,
          "user_tz": 180,
          "elapsed": 7,
          "user": {
            "displayName": "",
            "userId": ""
          }
        }
      },
      "execution_count": 4,
      "outputs": []
    },
    {
      "cell_type": "code",
      "source": [
        "df_rendimento_norte['Total'] = df_rendimento_norte['julho'].sum()\n",
        "df_rendimento_norte['%'] = df_rendimento_norte['julho']/df_rendimento_norte['Total']"
      ],
      "metadata": {
        "colab": {
          "base_uri": "https://localhost:8080/"
        },
        "id": "PcGDQuXcbH8O",
        "executionInfo": {
          "status": "ok",
          "timestamp": 1727813942102,
          "user_tz": 180,
          "elapsed": 8,
          "user": {
            "displayName": "",
            "userId": ""
          }
        },
        "outputId": "e127c502-3297-453c-b6bc-95a46b888460"
      },
      "execution_count": 5,
      "outputs": [
        {
          "output_type": "stream",
          "name": "stderr",
          "text": [
            "<ipython-input-5-8c0db66aac51>:1: SettingWithCopyWarning: \n",
            "A value is trying to be set on a copy of a slice from a DataFrame.\n",
            "Try using .loc[row_indexer,col_indexer] = value instead\n",
            "\n",
            "See the caveats in the documentation: https://pandas.pydata.org/pandas-docs/stable/user_guide/indexing.html#returning-a-view-versus-a-copy\n",
            "  df_rendimento_norte['Total'] = df_rendimento_norte['julho'].sum()\n",
            "<ipython-input-5-8c0db66aac51>:2: SettingWithCopyWarning: \n",
            "A value is trying to be set on a copy of a slice from a DataFrame.\n",
            "Try using .loc[row_indexer,col_indexer] = value instead\n",
            "\n",
            "See the caveats in the documentation: https://pandas.pydata.org/pandas-docs/stable/user_guide/indexing.html#returning-a-view-versus-a-copy\n",
            "  df_rendimento_norte['%'] = df_rendimento_norte['julho']/df_rendimento_norte['Total']\n"
          ]
        }
      ]
    },
    {
      "cell_type": "code",
      "source": [
        "df_rendimento_norte"
      ],
      "metadata": {
        "colab": {
          "base_uri": "https://localhost:8080/",
          "height": 206
        },
        "id": "PdpinftObTv8",
        "executionInfo": {
          "status": "ok",
          "timestamp": 1727813942484,
          "user_tz": 180,
          "elapsed": 388,
          "user": {
            "displayName": "",
            "userId": ""
          }
        },
        "outputId": "96721155-9126-4bf9-8027-0a3347a13a34"
      },
      "execution_count": 6,
      "outputs": [
        {
          "output_type": "execute_result",
          "data": {
            "text/plain": [
              "    pk_indicador                                          indicador  \\\n",
              "1            112  Pessoas que fizeram algum teste para saber se ...   \n",
              "8            112  Pessoas que fizeram algum teste para saber se ...   \n",
              "10           112  Pessoas que fizeram algum teste para saber se ...   \n",
              "19           112  Pessoas que fizeram algum teste para saber se ...   \n",
              "22           112  Pessoas que fizeram algum teste para saber se ...   \n",
              "\n",
              "   abertura_territorio             categoria_abertura_1  julho  Total  \\\n",
              "1                Norte       4 ou mais Salários Mínimos     66   1310   \n",
              "8                Norte      Menos de 1/2 Salário Mínimo    300   1310   \n",
              "10               Norte  1 a menos de 2 Salários Mínimos    316   1310   \n",
              "19               Norte  1/2 a menos de 1 Salário Mínimo    459   1310   \n",
              "22               Norte  2 a menos de 4 Salários Mínimos    169   1310   \n",
              "\n",
              "           %  \n",
              "1   0.050382  \n",
              "8   0.229008  \n",
              "10  0.241221  \n",
              "19  0.350382  \n",
              "22  0.129008  "
            ],
            "text/html": [
              "\n",
              "  <div id=\"df-3310cdd3-2f4e-47b7-8a6a-8aba302a287b\" class=\"colab-df-container\">\n",
              "    <div>\n",
              "<style scoped>\n",
              "    .dataframe tbody tr th:only-of-type {\n",
              "        vertical-align: middle;\n",
              "    }\n",
              "\n",
              "    .dataframe tbody tr th {\n",
              "        vertical-align: top;\n",
              "    }\n",
              "\n",
              "    .dataframe thead th {\n",
              "        text-align: right;\n",
              "    }\n",
              "</style>\n",
              "<table border=\"1\" class=\"dataframe\">\n",
              "  <thead>\n",
              "    <tr style=\"text-align: right;\">\n",
              "      <th></th>\n",
              "      <th>pk_indicador</th>\n",
              "      <th>indicador</th>\n",
              "      <th>abertura_territorio</th>\n",
              "      <th>categoria_abertura_1</th>\n",
              "      <th>julho</th>\n",
              "      <th>Total</th>\n",
              "      <th>%</th>\n",
              "    </tr>\n",
              "  </thead>\n",
              "  <tbody>\n",
              "    <tr>\n",
              "      <th>1</th>\n",
              "      <td>112</td>\n",
              "      <td>Pessoas que fizeram algum teste para saber se ...</td>\n",
              "      <td>Norte</td>\n",
              "      <td>4 ou mais Salários Mínimos</td>\n",
              "      <td>66</td>\n",
              "      <td>1310</td>\n",
              "      <td>0.050382</td>\n",
              "    </tr>\n",
              "    <tr>\n",
              "      <th>8</th>\n",
              "      <td>112</td>\n",
              "      <td>Pessoas que fizeram algum teste para saber se ...</td>\n",
              "      <td>Norte</td>\n",
              "      <td>Menos de 1/2 Salário Mínimo</td>\n",
              "      <td>300</td>\n",
              "      <td>1310</td>\n",
              "      <td>0.229008</td>\n",
              "    </tr>\n",
              "    <tr>\n",
              "      <th>10</th>\n",
              "      <td>112</td>\n",
              "      <td>Pessoas que fizeram algum teste para saber se ...</td>\n",
              "      <td>Norte</td>\n",
              "      <td>1 a menos de 2 Salários Mínimos</td>\n",
              "      <td>316</td>\n",
              "      <td>1310</td>\n",
              "      <td>0.241221</td>\n",
              "    </tr>\n",
              "    <tr>\n",
              "      <th>19</th>\n",
              "      <td>112</td>\n",
              "      <td>Pessoas que fizeram algum teste para saber se ...</td>\n",
              "      <td>Norte</td>\n",
              "      <td>1/2 a menos de 1 Salário Mínimo</td>\n",
              "      <td>459</td>\n",
              "      <td>1310</td>\n",
              "      <td>0.350382</td>\n",
              "    </tr>\n",
              "    <tr>\n",
              "      <th>22</th>\n",
              "      <td>112</td>\n",
              "      <td>Pessoas que fizeram algum teste para saber se ...</td>\n",
              "      <td>Norte</td>\n",
              "      <td>2 a menos de 4 Salários Mínimos</td>\n",
              "      <td>169</td>\n",
              "      <td>1310</td>\n",
              "      <td>0.129008</td>\n",
              "    </tr>\n",
              "  </tbody>\n",
              "</table>\n",
              "</div>\n",
              "    <div class=\"colab-df-buttons\">\n",
              "\n",
              "  <div class=\"colab-df-container\">\n",
              "    <button class=\"colab-df-convert\" onclick=\"convertToInteractive('df-3310cdd3-2f4e-47b7-8a6a-8aba302a287b')\"\n",
              "            title=\"Convert this dataframe to an interactive table.\"\n",
              "            style=\"display:none;\">\n",
              "\n",
              "  <svg xmlns=\"http://www.w3.org/2000/svg\" height=\"24px\" viewBox=\"0 -960 960 960\">\n",
              "    <path d=\"M120-120v-720h720v720H120Zm60-500h600v-160H180v160Zm220 220h160v-160H400v160Zm0 220h160v-160H400v160ZM180-400h160v-160H180v160Zm440 0h160v-160H620v160ZM180-180h160v-160H180v160Zm440 0h160v-160H620v160Z\"/>\n",
              "  </svg>\n",
              "    </button>\n",
              "\n",
              "  <style>\n",
              "    .colab-df-container {\n",
              "      display:flex;\n",
              "      gap: 12px;\n",
              "    }\n",
              "\n",
              "    .colab-df-convert {\n",
              "      background-color: #E8F0FE;\n",
              "      border: none;\n",
              "      border-radius: 50%;\n",
              "      cursor: pointer;\n",
              "      display: none;\n",
              "      fill: #1967D2;\n",
              "      height: 32px;\n",
              "      padding: 0 0 0 0;\n",
              "      width: 32px;\n",
              "    }\n",
              "\n",
              "    .colab-df-convert:hover {\n",
              "      background-color: #E2EBFA;\n",
              "      box-shadow: 0px 1px 2px rgba(60, 64, 67, 0.3), 0px 1px 3px 1px rgba(60, 64, 67, 0.15);\n",
              "      fill: #174EA6;\n",
              "    }\n",
              "\n",
              "    .colab-df-buttons div {\n",
              "      margin-bottom: 4px;\n",
              "    }\n",
              "\n",
              "    [theme=dark] .colab-df-convert {\n",
              "      background-color: #3B4455;\n",
              "      fill: #D2E3FC;\n",
              "    }\n",
              "\n",
              "    [theme=dark] .colab-df-convert:hover {\n",
              "      background-color: #434B5C;\n",
              "      box-shadow: 0px 1px 3px 1px rgba(0, 0, 0, 0.15);\n",
              "      filter: drop-shadow(0px 1px 2px rgba(0, 0, 0, 0.3));\n",
              "      fill: #FFFFFF;\n",
              "    }\n",
              "  </style>\n",
              "\n",
              "    <script>\n",
              "      const buttonEl =\n",
              "        document.querySelector('#df-3310cdd3-2f4e-47b7-8a6a-8aba302a287b button.colab-df-convert');\n",
              "      buttonEl.style.display =\n",
              "        google.colab.kernel.accessAllowed ? 'block' : 'none';\n",
              "\n",
              "      async function convertToInteractive(key) {\n",
              "        const element = document.querySelector('#df-3310cdd3-2f4e-47b7-8a6a-8aba302a287b');\n",
              "        const dataTable =\n",
              "          await google.colab.kernel.invokeFunction('convertToInteractive',\n",
              "                                                    [key], {});\n",
              "        if (!dataTable) return;\n",
              "\n",
              "        const docLinkHtml = 'Like what you see? Visit the ' +\n",
              "          '<a target=\"_blank\" href=https://colab.research.google.com/notebooks/data_table.ipynb>data table notebook</a>'\n",
              "          + ' to learn more about interactive tables.';\n",
              "        element.innerHTML = '';\n",
              "        dataTable['output_type'] = 'display_data';\n",
              "        await google.colab.output.renderOutput(dataTable, element);\n",
              "        const docLink = document.createElement('div');\n",
              "        docLink.innerHTML = docLinkHtml;\n",
              "        element.appendChild(docLink);\n",
              "      }\n",
              "    </script>\n",
              "  </div>\n",
              "\n",
              "\n",
              "<div id=\"df-cb710c29-0ffc-46f0-99a2-e3c43677830a\">\n",
              "  <button class=\"colab-df-quickchart\" onclick=\"quickchart('df-cb710c29-0ffc-46f0-99a2-e3c43677830a')\"\n",
              "            title=\"Suggest charts\"\n",
              "            style=\"display:none;\">\n",
              "\n",
              "<svg xmlns=\"http://www.w3.org/2000/svg\" height=\"24px\"viewBox=\"0 0 24 24\"\n",
              "     width=\"24px\">\n",
              "    <g>\n",
              "        <path d=\"M19 3H5c-1.1 0-2 .9-2 2v14c0 1.1.9 2 2 2h14c1.1 0 2-.9 2-2V5c0-1.1-.9-2-2-2zM9 17H7v-7h2v7zm4 0h-2V7h2v10zm4 0h-2v-4h2v4z\"/>\n",
              "    </g>\n",
              "</svg>\n",
              "  </button>\n",
              "\n",
              "<style>\n",
              "  .colab-df-quickchart {\n",
              "      --bg-color: #E8F0FE;\n",
              "      --fill-color: #1967D2;\n",
              "      --hover-bg-color: #E2EBFA;\n",
              "      --hover-fill-color: #174EA6;\n",
              "      --disabled-fill-color: #AAA;\n",
              "      --disabled-bg-color: #DDD;\n",
              "  }\n",
              "\n",
              "  [theme=dark] .colab-df-quickchart {\n",
              "      --bg-color: #3B4455;\n",
              "      --fill-color: #D2E3FC;\n",
              "      --hover-bg-color: #434B5C;\n",
              "      --hover-fill-color: #FFFFFF;\n",
              "      --disabled-bg-color: #3B4455;\n",
              "      --disabled-fill-color: #666;\n",
              "  }\n",
              "\n",
              "  .colab-df-quickchart {\n",
              "    background-color: var(--bg-color);\n",
              "    border: none;\n",
              "    border-radius: 50%;\n",
              "    cursor: pointer;\n",
              "    display: none;\n",
              "    fill: var(--fill-color);\n",
              "    height: 32px;\n",
              "    padding: 0;\n",
              "    width: 32px;\n",
              "  }\n",
              "\n",
              "  .colab-df-quickchart:hover {\n",
              "    background-color: var(--hover-bg-color);\n",
              "    box-shadow: 0 1px 2px rgba(60, 64, 67, 0.3), 0 1px 3px 1px rgba(60, 64, 67, 0.15);\n",
              "    fill: var(--button-hover-fill-color);\n",
              "  }\n",
              "\n",
              "  .colab-df-quickchart-complete:disabled,\n",
              "  .colab-df-quickchart-complete:disabled:hover {\n",
              "    background-color: var(--disabled-bg-color);\n",
              "    fill: var(--disabled-fill-color);\n",
              "    box-shadow: none;\n",
              "  }\n",
              "\n",
              "  .colab-df-spinner {\n",
              "    border: 2px solid var(--fill-color);\n",
              "    border-color: transparent;\n",
              "    border-bottom-color: var(--fill-color);\n",
              "    animation:\n",
              "      spin 1s steps(1) infinite;\n",
              "  }\n",
              "\n",
              "  @keyframes spin {\n",
              "    0% {\n",
              "      border-color: transparent;\n",
              "      border-bottom-color: var(--fill-color);\n",
              "      border-left-color: var(--fill-color);\n",
              "    }\n",
              "    20% {\n",
              "      border-color: transparent;\n",
              "      border-left-color: var(--fill-color);\n",
              "      border-top-color: var(--fill-color);\n",
              "    }\n",
              "    30% {\n",
              "      border-color: transparent;\n",
              "      border-left-color: var(--fill-color);\n",
              "      border-top-color: var(--fill-color);\n",
              "      border-right-color: var(--fill-color);\n",
              "    }\n",
              "    40% {\n",
              "      border-color: transparent;\n",
              "      border-right-color: var(--fill-color);\n",
              "      border-top-color: var(--fill-color);\n",
              "    }\n",
              "    60% {\n",
              "      border-color: transparent;\n",
              "      border-right-color: var(--fill-color);\n",
              "    }\n",
              "    80% {\n",
              "      border-color: transparent;\n",
              "      border-right-color: var(--fill-color);\n",
              "      border-bottom-color: var(--fill-color);\n",
              "    }\n",
              "    90% {\n",
              "      border-color: transparent;\n",
              "      border-bottom-color: var(--fill-color);\n",
              "    }\n",
              "  }\n",
              "</style>\n",
              "\n",
              "  <script>\n",
              "    async function quickchart(key) {\n",
              "      const quickchartButtonEl =\n",
              "        document.querySelector('#' + key + ' button');\n",
              "      quickchartButtonEl.disabled = true;  // To prevent multiple clicks.\n",
              "      quickchartButtonEl.classList.add('colab-df-spinner');\n",
              "      try {\n",
              "        const charts = await google.colab.kernel.invokeFunction(\n",
              "            'suggestCharts', [key], {});\n",
              "      } catch (error) {\n",
              "        console.error('Error during call to suggestCharts:', error);\n",
              "      }\n",
              "      quickchartButtonEl.classList.remove('colab-df-spinner');\n",
              "      quickchartButtonEl.classList.add('colab-df-quickchart-complete');\n",
              "    }\n",
              "    (() => {\n",
              "      let quickchartButtonEl =\n",
              "        document.querySelector('#df-cb710c29-0ffc-46f0-99a2-e3c43677830a button');\n",
              "      quickchartButtonEl.style.display =\n",
              "        google.colab.kernel.accessAllowed ? 'block' : 'none';\n",
              "    })();\n",
              "  </script>\n",
              "</div>\n",
              "    </div>\n",
              "  </div>\n"
            ]
          },
          "metadata": {},
          "execution_count": 6
        }
      ]
    },
    {
      "cell_type": "code",
      "source": [
        "df_rendimento_norte = df_rendimento_norte.sort_values(by='julho')\n",
        "pvt = df_rendimento_norte.pivot_table(values = 'julho', index = 'categoria_abertura_1')\n",
        "\n",
        "\n",
        "ax = pvt.plot(kind = 'barh',figsize=(10,10),legend=False)\n",
        "plt.title('Rendimento Mensal')\n",
        "plt.xlabel('')\n",
        "plt.ylabel('')\n",
        "\n",
        "for i in ax.patches:\n",
        "    ax.text(i.get_width() + 10, i.get_y() + i.get_height() / 2, str(int(i.get_width())),\n",
        "            ha='right', va='center')"
      ],
      "metadata": {
        "colab": {
          "base_uri": "https://localhost:8080/",
          "height": 853
        },
        "id": "c5h3T7cmcfpt",
        "executionInfo": {
          "status": "ok",
          "timestamp": 1727813943078,
          "user_tz": 180,
          "elapsed": 598,
          "user": {
            "displayName": "",
            "userId": ""
          }
        },
        "outputId": "ac8600c1-3f33-4de3-89dc-4204ba412e7a"
      },
      "execution_count": 7,
      "outputs": [
        {
          "output_type": "display_data",
          "data": {
            "text/plain": [
              "<Figure size 1000x1000 with 1 Axes>"
            ],
            "image/png": "[encoded data removed]"
          },
          "metadata": {}
        }
      ]
    },
    {
      "cell_type": "code",
      "source": [
        "df_rendimento_norte.set_index('categoria_abertura_1', inplace=True)"
      ],
      "metadata": {
        "id": "u-noh9rrgry0",
        "executionInfo": {
          "status": "ok",
          "timestamp": 1727813943078,
          "user_tz": 180,
          "elapsed": 11,
          "user": {
            "displayName": "",
            "userId": ""
          }
        }
      },
      "execution_count": 8,
      "outputs": []
    },
    {
      "cell_type": "code",
      "source": [
        "\n",
        "graf = df_rendimento_norte.plot.pie(y='%',x='categoria_abertura_1',figsize=(10,10),labels = None, autopct='%1.1f%%',startangle=90,pctdistance=1.15, wedgeprops={'edgecolor': 'black'},textprops={'color': 'black', 'fontsize': 18})\n",
        "plt.title('Rendimento Mensal Norte',fontsize=16)\n",
        "plt.legend(loc='center left', bbox_to_anchor=(1.0, 0.5), fontsize=12)\n",
        "plt.axis('off')\n",
        "plt.show()"
      ],
      "metadata": {
        "colab": {
          "base_uri": "https://localhost:8080/",
          "height": 868
        },
        "id": "7_-EZwWEfc3l",
        "executionInfo": {
          "status": "ok",
          "timestamp": 1727814031572,
          "user_tz": 180,
          "elapsed": 665,
          "user": {
            "displayName": "",
            "userId": ""
          }
        },
        "outputId": "159fda64-1f63-4f58-e08b-090d7d8852df"
      },
      "execution_count": 11,
      "outputs": [
        {
          "output_type": "stream",
          "name": "stderr",
          "text": [
            "WARNING:matplotlib.legend:No artists with labels found to put in legend.  Note that artists whose label start with an underscore are ignored when legend() is called with no argument.\n"
          ]
        },
        {
          "output_type": "display_data",
          "data": {
            "text/plain": [
              "<Figure size 1000x1000 with 1 Axes>"
            ],
            "image/png": "[encoded data removed]"
          },
          "metadata": {}
        }
      ]
    },
    {
      "cell_type": "markdown",
      "source": [
        "##NORDESTE"
      ],
      "metadata": {
        "id": "JsMvU2q_bbKR"
      }
    },
    {
      "cell_type": "code",
      "source": [
        "df_rendimento_nordeste = df_rendimento[df_rendimento['abertura_territorio']=='Nordeste']\n",
        "df_rendimento_nordeste['Total'] = df_rendimento_nordeste['julho'].sum()\n",
        "df_rendimento_nordeste['%'] = df_rendimento_nordeste['julho']/df_rendimento_nordeste['Total']"
      ],
      "metadata": {
        "colab": {
          "base_uri": "https://localhost:8080/"
        },
        "id": "GDjPuO0EbVL8",
        "executionInfo": {
          "status": "ok",
          "timestamp": 1727808817923,
          "user_tz": 180,
          "elapsed": 36,
          "user": {
            "displayName": "",
            "userId": ""
          }
        },
        "outputId": "f1b8d8ee-2e0f-4a86-ee23-106dbabab7a6"
      },
      "execution_count": null,
      "outputs": [
        {
          "output_type": "stream",
          "name": "stderr",
          "text": [
            "<ipython-input-16-7968ec5d3a15>:2: SettingWithCopyWarning: \n",
            "A value is trying to be set on a copy of a slice from a DataFrame.\n",
            "Try using .loc[row_indexer,col_indexer] = value instead\n",
            "\n",
            "See the caveats in the documentation: https://pandas.pydata.org/pandas-docs/stable/user_guide/indexing.html#returning-a-view-versus-a-copy\n",
            "  df_rendimento_nordeste['Total'] = df_rendimento_nordeste['julho'].sum()\n",
            "<ipython-input-16-7968ec5d3a15>:3: SettingWithCopyWarning: \n",
            "A value is trying to be set on a copy of a slice from a DataFrame.\n",
            "Try using .loc[row_indexer,col_indexer] = value instead\n",
            "\n",
            "See the caveats in the documentation: https://pandas.pydata.org/pandas-docs/stable/user_guide/indexing.html#returning-a-view-versus-a-copy\n",
            "  df_rendimento_nordeste['%'] = df_rendimento_nordeste['julho']/df_rendimento_nordeste['Total']\n"
          ]
        }
      ]
    },
    {
      "cell_type": "code",
      "source": [
        "graf = df_rendimento_nordeste.plot.pie(y='%',x='categoria_abertura_1',figsize=(10,10),labels = None, autopct='%1.1f%%',startangle=90,pctdistance=1.15, wedgeprops={'edgecolor': 'black'})\n",
        "plt.title('Rendimento Mensal')\n",
        "plt.legend(loc='center left', bbox_to_anchor=(1.0, 0.5), fontsize=12)\n",
        "\n",
        "plt.show()"
      ],
      "metadata": {
        "colab": {
          "base_uri": "https://localhost:8080/",
          "height": 867
        },
        "id": "BDLhgh-Hfwci",
        "executionInfo": {
          "status": "ok",
          "timestamp": 1727809930770,
          "user_tz": 180,
          "elapsed": 482,
          "user": {
            "displayName": "",
            "userId": ""
          }
        },
        "outputId": "a4fc5a20-c955-47ef-f6eb-ff8acd8340b2"
      },
      "execution_count": null,
      "outputs": [
        {
          "output_type": "stream",
          "name": "stderr",
          "text": [
            "WARNING:matplotlib.legend:No artists with labels found to put in legend.  Note that artists whose label start with an underscore are ignored when legend() is called with no argument.\n"
          ]
        },
        {
          "output_type": "display_data",
          "data": {
            "text/plain": [
              "<Figure size 1000x1000 with 1 Axes>"
            ],
            "image/png": "[encoded data removed]"
          },
          "metadata": {}
        }
      ]
    },
    {
      "cell_type": "markdown",
      "source": [
        "##Centro Oeste"
      ],
      "metadata": {
        "id": "1bonoocublD4"
      }
    },
    {
      "cell_type": "code",
      "source": [
        "df_rendimento_centro = df_rendimento[df_rendimento['abertura_territorio']=='CentroOeste']\n",
        "df_rendimento_centro['Total'] = df_rendimento_centro['julho'].sum()\n",
        "df_rendimento_centro['%'] = df_rendimento_centro['julho']/df_rendimento_centro['Total']"
      ],
      "metadata": {
        "colab": {
          "base_uri": "https://localhost:8080/"
        },
        "id": "YFXAjSb3bkYp",
        "executionInfo": {
          "status": "ok",
          "timestamp": 1727808865384,
          "user_tz": 180,
          "elapsed": 5,
          "user": {
            "displayName": "",
            "userId": ""
          }
        },
        "outputId": "26eecc02-c1d2-4526-91a7-cff62486b696"
      },
      "execution_count": null,
      "outputs": [
        {
          "output_type": "stream",
          "name": "stderr",
          "text": [
            "<ipython-input-17-70f6b34959f8>:2: SettingWithCopyWarning: \n",
            "A value is trying to be set on a copy of a slice from a DataFrame.\n",
            "Try using .loc[row_indexer,col_indexer] = value instead\n",
            "\n",
            "See the caveats in the documentation: https://pandas.pydata.org/pandas-docs/stable/user_guide/indexing.html#returning-a-view-versus-a-copy\n",
            "  df_rendimento_centro['Total'] = df_rendimento_centro['julho'].sum()\n",
            "<ipython-input-17-70f6b34959f8>:3: SettingWithCopyWarning: \n",
            "A value is trying to be set on a copy of a slice from a DataFrame.\n",
            "Try using .loc[row_indexer,col_indexer] = value instead\n",
            "\n",
            "See the caveats in the documentation: https://pandas.pydata.org/pandas-docs/stable/user_guide/indexing.html#returning-a-view-versus-a-copy\n",
            "  df_rendimento_centro['%'] = df_rendimento_centro['julho']/df_rendimento_centro['Total']\n"
          ]
        }
      ]
    },
    {
      "cell_type": "markdown",
      "source": [
        "##SUDESTE"
      ],
      "metadata": {
        "id": "fgS0g-yWbwte"
      }
    },
    {
      "cell_type": "code",
      "source": [
        "df_rendimento_sudeste = df_rendimento[df_rendimento['abertura_territorio']=='Sudeste']\n",
        "df_rendimento_sudeste['Total'] = df_rendimento_sudeste['julho'].sum()\n",
        "df_rendimento_sudeste['%'] = df_rendimento_sudeste['julho']/df_rendimento_sudeste['Total']"
      ],
      "metadata": {
        "colab": {
          "base_uri": "https://localhost:8080/"
        },
        "id": "OUtzbDTvbv_Y",
        "executionInfo": {
          "status": "ok",
          "timestamp": 1727808900606,
          "user_tz": 180,
          "elapsed": 8,
          "user": {
            "displayName": "",
            "userId": ""
          }
        },
        "outputId": "4e37b930-ea3d-4160-f655-aca41f32f65b"
      },
      "execution_count": null,
      "outputs": [
        {
          "output_type": "stream",
          "name": "stderr",
          "text": [
            "<ipython-input-18-724ee56baa11>:2: SettingWithCopyWarning: \n",
            "A value is trying to be set on a copy of a slice from a DataFrame.\n",
            "Try using .loc[row_indexer,col_indexer] = value instead\n",
            "\n",
            "See the caveats in the documentation: https://pandas.pydata.org/pandas-docs/stable/user_guide/indexing.html#returning-a-view-versus-a-copy\n",
            "  df_rendimento_sudeste['Total'] = df_rendimento_sudeste['julho'].sum()\n",
            "<ipython-input-18-724ee56baa11>:3: SettingWithCopyWarning: \n",
            "A value is trying to be set on a copy of a slice from a DataFrame.\n",
            "Try using .loc[row_indexer,col_indexer] = value instead\n",
            "\n",
            "See the caveats in the documentation: https://pandas.pydata.org/pandas-docs/stable/user_guide/indexing.html#returning-a-view-versus-a-copy\n",
            "  df_rendimento_sudeste['%'] = df_rendimento_sudeste['julho']/df_rendimento_sudeste['Total']\n"
          ]
        }
      ]
    },
    {
      "cell_type": "markdown",
      "source": [
        "##SUL"
      ],
      "metadata": {
        "id": "d7FkiYi7b7Ci"
      }
    },
    {
      "cell_type": "code",
      "source": [
        "df_rendimento_sul = df_rendimento[df_rendimento['abertura_territorio']=='Sul']\n",
        "df_rendimento_sul['Total'] = df_rendimento_sul['julho'].sum()\n",
        "df_rendimento_sul['%'] = df_rendimento_sul['julho']/df_rendimento_sul['Total']"
      ],
      "metadata": {
        "colab": {
          "base_uri": "https://localhost:8080/"
        },
        "id": "iS9yjl6cb4lZ",
        "executionInfo": {
          "status": "ok",
          "timestamp": 1727808936369,
          "user_tz": 180,
          "elapsed": 5,
          "user": {
            "displayName": "",
            "userId": ""
          }
        },
        "outputId": "bc6070ef-9689-4c38-cd1a-41042b3950b5"
      },
      "execution_count": null,
      "outputs": [
        {
          "output_type": "stream",
          "name": "stderr",
          "text": [
            "<ipython-input-19-891431233e2d>:2: SettingWithCopyWarning: \n",
            "A value is trying to be set on a copy of a slice from a DataFrame.\n",
            "Try using .loc[row_indexer,col_indexer] = value instead\n",
            "\n",
            "See the caveats in the documentation: https://pandas.pydata.org/pandas-docs/stable/user_guide/indexing.html#returning-a-view-versus-a-copy\n",
            "  df_rendimento_sul['Total'] = df_rendimento_sul['julho'].sum()\n",
            "<ipython-input-19-891431233e2d>:3: SettingWithCopyWarning: \n",
            "A value is trying to be set on a copy of a slice from a DataFrame.\n",
            "Try using .loc[row_indexer,col_indexer] = value instead\n",
            "\n",
            "See the caveats in the documentation: https://pandas.pydata.org/pandas-docs/stable/user_guide/indexing.html#returning-a-view-versus-a-copy\n",
            "  df_rendimento_sul['%'] = df_rendimento_sul['julho']/df_rendimento_sul['Total']\n"
          ]
        }
      ]
    },
    {
      "cell_type": "markdown",
      "source": [
        "##CONSOLIDADO"
      ],
      "metadata": {
        "id": "Dwuxaej2cIQs"
      }
    },
    {
      "cell_type": "code",
      "source": [
        "df_julho_consolidado = pd.concat([df_rendimento_sul,df_rendimento_sudeste,df_rendimento_nordeste,df_rendimento_centro,df_rendimento_norte])\n",
        "df_julho_consolidado_plano = df_julho_consolidado[df_julho_consolidado['categoria_abertura_2']=='Tem plano de saúde médico']\n",
        "\n",
        "df_julho_consolidado_plano = df_julho_consolidado_plano.sort_values(by='%')\n",
        "ax=df_julho_consolidado_plano.plot(kind='line',marker = 'o',figsize=(8,8),y='%',x='abertura_territorio')\n",
        "for i, v in enumerate(df_julho_consolidado_plano['%']):\n",
        "    ax.text(i, v + 2, str(v), ha='center', fontsize=12)\n",
        "\n",
        "plt.title('Regiões com mais idosos com plano de saude')\n",
        "plt.legend(loc='best')\n",
        "plt.grid(True)"
      ],
      "metadata": {
        "id": "Sk5DmSlgcBSk"
      },
      "execution_count": null,
      "outputs": []
    }
  ]
}
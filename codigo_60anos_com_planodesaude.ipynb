{
  "nbformat": 4,
  "nbformat_minor": 0,
  "metadata": {
    "colab": {
      "cell_execution_strategy": "setup",
      "provenance": [],
      "name": "codigo_60anos_com_planodesaude"
    },
    "kernelspec": {
      "name": "python3",
      "display_name": "Python 3"
    },
    "language_info": {
      "name": "python"
    }
  },
  "cells": [
    {
      "cell_type": "code",
      "source": [
        "import pandas as pd\n",
        "from google.cloud import bigquery\n",
        "\n",
        "import matplotlib.pyplot as plt\n",
        "\n",
        "client = bigquery.Client()"
      ],
      "metadata": {
        "id": "SEAbgKjkVr33",
        "executionInfo": {
          "status": "ok",
          "timestamp": 1727813651779,
          "user_tz": 180,
          "elapsed": 909,
          "user": {
            "displayName": "",
            "userId": ""
          }
        }
      },
      "execution_count": 1,
      "outputs": []
    },
    {
      "cell_type": "markdown",
      "source": [
        "#Residentes com Plano de saude"
      ],
      "metadata": {
        "id": "8QCdWL8MxaLB"
      }
    },
    {
      "cell_type": "code",
      "source": [
        "residentes_com_plano = \"\"\"\n",
        "select\n",
        " pk_indicador\n",
        ",indicador\n",
        ",nivel_territorio\n",
        ",abertura_territorio\n",
        ",variavel_abertura_1\n",
        ",case when categoria_abertura_1 like '%59%' then 'ate 59 anos' else 'mais 60 anos' end as categoria_abertura_1\n",
        ",variavel_abertura_2\n",
        ",categoria_abertura_2\n",
        ",cast(replace(maio,' ','') as int) as maio\n",
        ",cast(replace(junho,' ','') as int) as junho\n",
        ",cast(replace(julho,' ','') as int) as julho\n",
        " from `pnad_covid.tb_pais`\n",
        "where\n",
        "tipo_dado = 'quantidade' and\n",
        "maio is not null and junho is not null and julho is not null\n",
        "and pk_indicador = 126\n",
        "and variavel_abertura_1 = 'Grupos de Idade 2'\n",
        "and categoria_abertura_2 is not null\n",
        "order by variavel_abertura_1,indicador\n",
        "\"\"\"\n",
        "\n",
        "df_residentes_com_plano= client.query(residentes_com_plano).to_dataframe()"
      ],
      "metadata": {
        "id": "9QVdu4SMVuOD",
        "executionInfo": {
          "status": "ok",
          "timestamp": 1727813657648,
          "user_tz": 180,
          "elapsed": 2099,
          "user": {
            "displayName": "",
            "userId": ""
          }
        }
      },
      "execution_count": 2,
      "outputs": []
    },
    {
      "cell_type": "code",
      "source": [
        "df_60 = df_residentes_com_plano[df_residentes_com_plano['categoria_abertura_1'].isin(['mais 60 anos'])]"
      ],
      "metadata": {
        "id": "lTTbFTqGV5qR",
        "executionInfo": {
          "status": "ok",
          "timestamp": 1727813658967,
          "user_tz": 180,
          "elapsed": 2,
          "user": {
            "displayName": "",
            "userId": ""
          }
        }
      },
      "execution_count": 3,
      "outputs": []
    },
    {
      "cell_type": "code",
      "source": [
        "df_60 = df_60[['categoria_abertura_2','maio','junho','julho']]"
      ],
      "metadata": {
        "id": "d6qnHpAZlP6F",
        "executionInfo": {
          "status": "ok",
          "timestamp": 1727813659362,
          "user_tz": 180,
          "elapsed": 2,
          "user": {
            "displayName": "",
            "userId": ""
          }
        }
      },
      "execution_count": 4,
      "outputs": []
    },
    {
      "cell_type": "code",
      "source": [
        "df_melt_60 = pd.melt(df_60,id_vars=['categoria_abertura_2'],var_name='mes',value_name='qtd')"
      ],
      "metadata": {
        "id": "rizhiuFjlHv1",
        "executionInfo": {
          "status": "ok",
          "timestamp": 1727813660149,
          "user_tz": 180,
          "elapsed": 2,
          "user": {
            "displayName": "",
            "userId": ""
          }
        }
      },
      "execution_count": 5,
      "outputs": []
    },
    {
      "cell_type": "code",
      "source": [
        "df_melt_60"
      ],
      "metadata": {
        "id": "3-0LbSMP2RUF",
        "executionInfo": {
          "status": "ok",
          "timestamp": 1727813660538,
          "user_tz": 180,
          "elapsed": 6,
          "user": {
            "displayName": "",
            "userId": ""
          }
        },
        "outputId": "12cd9a19-c232-4055-fcf1-2519d52d0803",
        "colab": {
          "base_uri": "https://localhost:8080/",
          "height": 238
        }
      },
      "execution_count": 6,
      "outputs": [
        {
          "output_type": "execute_result",
          "data": {
            "text/plain": [
              "            categoria_abertura_2    mes    qtd\n",
              "0  Não tem plano de saúde médico   maio  19631\n",
              "1      Tem plano de saúde médico   maio  10258\n",
              "2  Não tem plano de saúde médico  junho  20236\n",
              "3      Tem plano de saúde médico  junho   9635\n",
              "4  Não tem plano de saúde médico  julho  20399\n",
              "5      Tem plano de saúde médico  julho   9648"
            ],
            "text/html": [
              "\n",
              "  <div id=\"df-c33bf273-1014-4cf9-8163-2753f7d8d155\" class=\"colab-df-container\">\n",
              "    <div>\n",
              "<style scoped>\n",
              "    .dataframe tbody tr th:only-of-type {\n",
              "        vertical-align: middle;\n",
              "    }\n",
              "\n",
              "    .dataframe tbody tr th {\n",
              "        vertical-align: top;\n",
              "    }\n",
              "\n",
              "    .dataframe thead th {\n",
              "        text-align: right;\n",
              "    }\n",
              "</style>\n",
              "<table border=\"1\" class=\"dataframe\">\n",
              "  <thead>\n",
              "    <tr style=\"text-align: right;\">\n",
              "      <th></th>\n",
              "      <th>categoria_abertura_2</th>\n",
              "      <th>mes</th>\n",
              "      <th>qtd</th>\n",
              "    </tr>\n",
              "  </thead>\n",
              "  <tbody>\n",
              "    <tr>\n",
              "      <th>0</th>\n",
              "      <td>Não tem plano de saúde médico</td>\n",
              "      <td>maio</td>\n",
              "      <td>19631</td>\n",
              "    </tr>\n",
              "    <tr>\n",
              "      <th>1</th>\n",
              "      <td>Tem plano de saúde médico</td>\n",
              "      <td>maio</td>\n",
              "      <td>10258</td>\n",
              "    </tr>\n",
              "    <tr>\n",
              "      <th>2</th>\n",
              "      <td>Não tem plano de saúde médico</td>\n",
              "      <td>junho</td>\n",
              "      <td>20236</td>\n",
              "    </tr>\n",
              "    <tr>\n",
              "      <th>3</th>\n",
              "      <td>Tem plano de saúde médico</td>\n",
              "      <td>junho</td>\n",
              "      <td>9635</td>\n",
              "    </tr>\n",
              "    <tr>\n",
              "      <th>4</th>\n",
              "      <td>Não tem plano de saúde médico</td>\n",
              "      <td>julho</td>\n",
              "      <td>20399</td>\n",
              "    </tr>\n",
              "    <tr>\n",
              "      <th>5</th>\n",
              "      <td>Tem plano de saúde médico</td>\n",
              "      <td>julho</td>\n",
              "      <td>9648</td>\n",
              "    </tr>\n",
              "  </tbody>\n",
              "</table>\n",
              "</div>\n",
              "    <div class=\"colab-df-buttons\">\n",
              "\n",
              "  <div class=\"colab-df-container\">\n",
              "    <button class=\"colab-df-convert\" onclick=\"convertToInteractive('df-c33bf273-1014-4cf9-8163-2753f7d8d155')\"\n",
              "            title=\"Convert this dataframe to an interactive table.\"\n",
              "            style=\"display:none;\">\n",
              "\n",
              "  <svg xmlns=\"http://www.w3.org/2000/svg\" height=\"24px\" viewBox=\"0 -960 960 960\">\n",
              "    <path d=\"M120-120v-720h720v720H120Zm60-500h600v-160H180v160Zm220 220h160v-160H400v160Zm0 220h160v-160H400v160ZM180-400h160v-160H180v160Zm440 0h160v-160H620v160ZM180-180h160v-160H180v160Zm440 0h160v-160H620v160Z\"/>\n",
              "  </svg>\n",
              "    </button>\n",
              "\n",
              "  <style>\n",
              "    .colab-df-container {\n",
              "      display:flex;\n",
              "      gap: 12px;\n",
              "    }\n",
              "\n",
              "    .colab-df-convert {\n",
              "      background-color: #E8F0FE;\n",
              "      border: none;\n",
              "      border-radius: 50%;\n",
              "      cursor: pointer;\n",
              "      display: none;\n",
              "      fill: #1967D2;\n",
              "      height: 32px;\n",
              "      padding: 0 0 0 0;\n",
              "      width: 32px;\n",
              "    }\n",
              "\n",
              "    .colab-df-convert:hover {\n",
              "      background-color: #E2EBFA;\n",
              "      box-shadow: 0px 1px 2px rgba(60, 64, 67, 0.3), 0px 1px 3px 1px rgba(60, 64, 67, 0.15);\n",
              "      fill: #174EA6;\n",
              "    }\n",
              "\n",
              "    .colab-df-buttons div {\n",
              "      margin-bottom: 4px;\n",
              "    }\n",
              "\n",
              "    [theme=dark] .colab-df-convert {\n",
              "      background-color: #3B4455;\n",
              "      fill: #D2E3FC;\n",
              "    }\n",
              "\n",
              "    [theme=dark] .colab-df-convert:hover {\n",
              "      background-color: #434B5C;\n",
              "      box-shadow: 0px 1px 3px 1px rgba(0, 0, 0, 0.15);\n",
              "      filter: drop-shadow(0px 1px 2px rgba(0, 0, 0, 0.3));\n",
              "      fill: #FFFFFF;\n",
              "    }\n",
              "  </style>\n",
              "\n",
              "    <script>\n",
              "      const buttonEl =\n",
              "        document.querySelector('#df-c33bf273-1014-4cf9-8163-2753f7d8d155 button.colab-df-convert');\n",
              "      buttonEl.style.display =\n",
              "        google.colab.kernel.accessAllowed ? 'block' : 'none';\n",
              "\n",
              "      async function convertToInteractive(key) {\n",
              "        const element = document.querySelector('#df-c33bf273-1014-4cf9-8163-2753f7d8d155');\n",
              "        const dataTable =\n",
              "          await google.colab.kernel.invokeFunction('convertToInteractive',\n",
              "                                                    [key], {});\n",
              "        if (!dataTable) return;\n",
              "\n",
              "        const docLinkHtml = 'Like what you see? Visit the ' +\n",
              "          '<a target=\"_blank\" href=https://colab.research.google.com/notebooks/data_table.ipynb>data table notebook</a>'\n",
              "          + ' to learn more about interactive tables.';\n",
              "        element.innerHTML = '';\n",
              "        dataTable['output_type'] = 'display_data';\n",
              "        await google.colab.output.renderOutput(dataTable, element);\n",
              "        const docLink = document.createElement('div');\n",
              "        docLink.innerHTML = docLinkHtml;\n",
              "        element.appendChild(docLink);\n",
              "      }\n",
              "    </script>\n",
              "  </div>\n",
              "\n",
              "\n",
              "<div id=\"df-fee1ab1b-92cc-40c7-8ded-c6ac4c48c51c\">\n",
              "  <button class=\"colab-df-quickchart\" onclick=\"quickchart('df-fee1ab1b-92cc-40c7-8ded-c6ac4c48c51c')\"\n",
              "            title=\"Suggest charts\"\n",
              "            style=\"display:none;\">\n",
              "\n",
              "<svg xmlns=\"http://www.w3.org/2000/svg\" height=\"24px\"viewBox=\"0 0 24 24\"\n",
              "     width=\"24px\">\n",
              "    <g>\n",
              "        <path d=\"M19 3H5c-1.1 0-2 .9-2 2v14c0 1.1.9 2 2 2h14c1.1 0 2-.9 2-2V5c0-1.1-.9-2-2-2zM9 17H7v-7h2v7zm4 0h-2V7h2v10zm4 0h-2v-4h2v4z\"/>\n",
              "    </g>\n",
              "</svg>\n",
              "  </button>\n",
              "\n",
              "<style>\n",
              "  .colab-df-quickchart {\n",
              "      --bg-color: #E8F0FE;\n",
              "      --fill-color: #1967D2;\n",
              "      --hover-bg-color: #E2EBFA;\n",
              "      --hover-fill-color: #174EA6;\n",
              "      --disabled-fill-color: #AAA;\n",
              "      --disabled-bg-color: #DDD;\n",
              "  }\n",
              "\n",
              "  [theme=dark] .colab-df-quickchart {\n",
              "      --bg-color: #3B4455;\n",
              "      --fill-color: #D2E3FC;\n",
              "      --hover-bg-color: #434B5C;\n",
              "      --hover-fill-color: #FFFFFF;\n",
              "      --disabled-bg-color: #3B4455;\n",
              "      --disabled-fill-color: #666;\n",
              "  }\n",
              "\n",
              "  .colab-df-quickchart {\n",
              "    background-color: var(--bg-color);\n",
              "    border: none;\n",
              "    border-radius: 50%;\n",
              "    cursor: pointer;\n",
              "    display: none;\n",
              "    fill: var(--fill-color);\n",
              "    height: 32px;\n",
              "    padding: 0;\n",
              "    width: 32px;\n",
              "  }\n",
              "\n",
              "  .colab-df-quickchart:hover {\n",
              "    background-color: var(--hover-bg-color);\n",
              "    box-shadow: 0 1px 2px rgba(60, 64, 67, 0.3), 0 1px 3px 1px rgba(60, 64, 67, 0.15);\n",
              "    fill: var(--button-hover-fill-color);\n",
              "  }\n",
              "\n",
              "  .colab-df-quickchart-complete:disabled,\n",
              "  .colab-df-quickchart-complete:disabled:hover {\n",
              "    background-color: var(--disabled-bg-color);\n",
              "    fill: var(--disabled-fill-color);\n",
              "    box-shadow: none;\n",
              "  }\n",
              "\n",
              "  .colab-df-spinner {\n",
              "    border: 2px solid var(--fill-color);\n",
              "    border-color: transparent;\n",
              "    border-bottom-color: var(--fill-color);\n",
              "    animation:\n",
              "      spin 1s steps(1) infinite;\n",
              "  }\n",
              "\n",
              "  @keyframes spin {\n",
              "    0% {\n",
              "      border-color: transparent;\n",
              "      border-bottom-color: var(--fill-color);\n",
              "      border-left-color: var(--fill-color);\n",
              "    }\n",
              "    20% {\n",
              "      border-color: transparent;\n",
              "      border-left-color: var(--fill-color);\n",
              "      border-top-color: var(--fill-color);\n",
              "    }\n",
              "    30% {\n",
              "      border-color: transparent;\n",
              "      border-left-color: var(--fill-color);\n",
              "      border-top-color: var(--fill-color);\n",
              "      border-right-color: var(--fill-color);\n",
              "    }\n",
              "    40% {\n",
              "      border-color: transparent;\n",
              "      border-right-color: var(--fill-color);\n",
              "      border-top-color: var(--fill-color);\n",
              "    }\n",
              "    60% {\n",
              "      border-color: transparent;\n",
              "      border-right-color: var(--fill-color);\n",
              "    }\n",
              "    80% {\n",
              "      border-color: transparent;\n",
              "      border-right-color: var(--fill-color);\n",
              "      border-bottom-color: var(--fill-color);\n",
              "    }\n",
              "    90% {\n",
              "      border-color: transparent;\n",
              "      border-bottom-color: var(--fill-color);\n",
              "    }\n",
              "  }\n",
              "</style>\n",
              "\n",
              "  <script>\n",
              "    async function quickchart(key) {\n",
              "      const quickchartButtonEl =\n",
              "        document.querySelector('#' + key + ' button');\n",
              "      quickchartButtonEl.disabled = true;  // To prevent multiple clicks.\n",
              "      quickchartButtonEl.classList.add('colab-df-spinner');\n",
              "      try {\n",
              "        const charts = await google.colab.kernel.invokeFunction(\n",
              "            'suggestCharts', [key], {});\n",
              "      } catch (error) {\n",
              "        console.error('Error during call to suggestCharts:', error);\n",
              "      }\n",
              "      quickchartButtonEl.classList.remove('colab-df-spinner');\n",
              "      quickchartButtonEl.classList.add('colab-df-quickchart-complete');\n",
              "    }\n",
              "    (() => {\n",
              "      let quickchartButtonEl =\n",
              "        document.querySelector('#df-fee1ab1b-92cc-40c7-8ded-c6ac4c48c51c button');\n",
              "      quickchartButtonEl.style.display =\n",
              "        google.colab.kernel.accessAllowed ? 'block' : 'none';\n",
              "    })();\n",
              "  </script>\n",
              "</div>\n",
              "    </div>\n",
              "  </div>\n"
            ]
          },
          "metadata": {},
          "execution_count": 6
        }
      ]
    },
    {
      "cell_type": "code",
      "source": [
        "df_60_julho = df_melt_60[df_melt_60['mes']=='julho']"
      ],
      "metadata": {
        "id": "_yYmpSNTlukT",
        "executionInfo": {
          "status": "ok",
          "timestamp": 1727813661786,
          "user_tz": 180,
          "elapsed": 2,
          "user": {
            "displayName": "",
            "userId": ""
          }
        }
      },
      "execution_count": 7,
      "outputs": []
    },
    {
      "cell_type": "code",
      "source": [
        "df_60_julho['total'] = df_60_julho['qtd'].sum()\n",
        "df_60_julho['%'] = df_60_julho['qtd']/df_60_julho['total']"
      ],
      "metadata": {
        "colab": {
          "base_uri": "https://localhost:8080/"
        },
        "id": "SebKhOLsl5S9",
        "executionInfo": {
          "status": "ok",
          "timestamp": 1727813663031,
          "user_tz": 180,
          "elapsed": 3,
          "user": {
            "displayName": "",
            "userId": ""
          }
        },
        "outputId": "296a5864-fd98-4fa6-f157-8daaa9f495ac"
      },
      "execution_count": 8,
      "outputs": [
        {
          "output_type": "stream",
          "name": "stderr",
          "text": [
            "<ipython-input-8-95be32157cd4>:1: SettingWithCopyWarning: \n",
            "A value is trying to be set on a copy of a slice from a DataFrame.\n",
            "Try using .loc[row_indexer,col_indexer] = value instead\n",
            "\n",
            "See the caveats in the documentation: https://pandas.pydata.org/pandas-docs/stable/user_guide/indexing.html#returning-a-view-versus-a-copy\n",
            "  df_60_julho['total'] = df_60_julho['qtd'].sum()\n",
            "<ipython-input-8-95be32157cd4>:2: SettingWithCopyWarning: \n",
            "A value is trying to be set on a copy of a slice from a DataFrame.\n",
            "Try using .loc[row_indexer,col_indexer] = value instead\n",
            "\n",
            "See the caveats in the documentation: https://pandas.pydata.org/pandas-docs/stable/user_guide/indexing.html#returning-a-view-versus-a-copy\n",
            "  df_60_julho['%'] = df_60_julho['qtd']/df_60_julho['total']\n"
          ]
        }
      ]
    },
    {
      "cell_type": "markdown",
      "source": [
        "##60 anos"
      ],
      "metadata": {
        "id": "JQZILO2RUKhx"
      }
    },
    {
      "cell_type": "code",
      "source": [
        "labels = ['Não tem Plano de saúde', 'Tem plano de saúde']\n",
        "sizes = [10, 8]\n",
        "colors = ['red', 'blue']\n",
        "\n",
        "\n",
        "\n",
        "graf = df_60_julho.plot.pie(y='%',figsize=sizes, colors=colors, autopct='%1.1f%%',textprops={'color': 'white', 'fontsize': 18})\n",
        "plt.title('Idosos com plano de saúde',fontsize=16)\n",
        "plt.axis('off')\n",
        "plt.legend(labels, loc=\"best\",fontsize=16)\n",
        "\n",
        "plt.show()"
      ],
      "metadata": {
        "id": "69rQCuwNLE8n",
        "colab": {
          "base_uri": "https://localhost:8080/",
          "height": 678
        },
        "executionInfo": {
          "status": "ok",
          "timestamp": 1727813689542,
          "user_tz": 180,
          "elapsed": 483,
          "user": {
            "displayName": "",
            "userId": ""
          }
        },
        "outputId": "9806591b-19ac-4713-d69f-6ea63cff4d03"
      },
      "execution_count": 10,
      "outputs": [
        {
          "output_type": "display_data",
          "data": {
            "text/plain": [
              "<Figure size 1000x800 with 1 Axes>"
            ],
            "image/png": "[encoded data removed]"
          },
          "metadata": {}
        }
      ]
    },
    {
      "cell_type": "code",
      "source": [],
      "metadata": {
        "id": "AOs_XVh6USOo"
      },
      "execution_count": null,
      "outputs": []
    }
  ]
}
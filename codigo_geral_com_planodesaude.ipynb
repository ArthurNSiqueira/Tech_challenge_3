{
  "nbformat": 4,
  "nbformat_minor": 0,
  "metadata": {
    "colab": {
      "cell_execution_strategy": "setup",
      "provenance": [],
      "name": "codigo_geral_com_planodesaude"
    },
    "kernelspec": {
      "name": "python3",
      "display_name": "Python 3"
    },
    "language_info": {
      "name": "python"
    }
  },
  "cells": [
    {
      "cell_type": "code",
      "source": [
        "import pandas as pd\n",
        "from google.cloud import bigquery\n",
        "\n",
        "import matplotlib.pyplot as plt\n",
        "\n",
        "client = bigquery.Client()"
      ],
      "metadata": {
        "id": "Y3hf0PwsU8c8",
        "executionInfo": {
          "status": "ok",
          "timestamp": 1727813848355,
          "user_tz": 180,
          "elapsed": 629,
          "user": {
            "displayName": "",
            "userId": ""
          }
        }
      },
      "execution_count": 43,
      "outputs": []
    },
    {
      "cell_type": "code",
      "source": [
        "residentes_com_plano = \"\"\"\n",
        "select\n",
        " pk_indicador\n",
        ",indicador\n",
        ",variavel_abertura_2\n",
        ",categoria_abertura_2\n",
        ",sum(cast(replace(maio,' ','') as int)) as maio\n",
        ",sum(cast(replace(junho,' ','') as int)) as junho\n",
        ",sum(cast(replace(julho,' ','') as int)) as julho\n",
        " from `pnad_covid.tb_pais`\n",
        "where\n",
        "tipo_dado = 'quantidade' and\n",
        "maio is not null and junho is not null and julho is not null\n",
        "and pk_indicador = 126\n",
        "and variavel_abertura_1 = 'Grupos de Idade 2'\n",
        "and categoria_abertura_2 is not null\n",
        "group by\n",
        "pk_indicador\n",
        ",indicador\n",
        ",variavel_abertura_2\n",
        ",categoria_abertura_2\n",
        "\n",
        "\"\"\"\n",
        "\n",
        "df_residentes_com_plano= client.query(residentes_com_plano).to_dataframe()"
      ],
      "metadata": {
        "id": "tyk9K4D2U87z",
        "executionInfo": {
          "status": "ok",
          "timestamp": 1727813850209,
          "user_tz": 180,
          "elapsed": 1354,
          "user": {
            "displayName": "",
            "userId": ""
          }
        }
      },
      "execution_count": 44,
      "outputs": []
    },
    {
      "cell_type": "code",
      "source": [
        "df_melt_geral = pd.melt(df_residentes_com_plano,id_vars=['pk_indicador','indicador','variavel_abertura_2','categoria_abertura_2'],var_name='mes',value_name='qtd')"
      ],
      "metadata": {
        "id": "wKC8c3E7ibv3",
        "executionInfo": {
          "status": "ok",
          "timestamp": 1727813850209,
          "user_tz": 180,
          "elapsed": 9,
          "user": {
            "displayName": "",
            "userId": ""
          }
        }
      },
      "execution_count": 45,
      "outputs": []
    },
    {
      "cell_type": "code",
      "source": [
        "df_melt_geral"
      ],
      "metadata": {
        "colab": {
          "base_uri": "https://localhost:8080/",
          "height": 238
        },
        "id": "wcFN2Wldi6wf",
        "executionInfo": {
          "status": "ok",
          "timestamp": 1727813850209,
          "user_tz": 180,
          "elapsed": 9,
          "user": {
            "displayName": "",
            "userId": ""
          }
        },
        "outputId": "d4631bd1-8cbf-429a-abea-bfb3c32f243d"
      },
      "execution_count": 46,
      "outputs": [
        {
          "output_type": "execute_result",
          "data": {
            "text/plain": [
              "   pk_indicador                          indicador    variavel_abertura_2  \\\n",
              "0           126  População residente (mil pessoas)  Plano de Saúde Médico   \n",
              "1           126  População residente (mil pessoas)  Plano de Saúde Médico   \n",
              "2           126  População residente (mil pessoas)  Plano de Saúde Médico   \n",
              "3           126  População residente (mil pessoas)  Plano de Saúde Médico   \n",
              "4           126  População residente (mil pessoas)  Plano de Saúde Médico   \n",
              "5           126  População residente (mil pessoas)  Plano de Saúde Médico   \n",
              "\n",
              "            categoria_abertura_2    mes     qtd  \n",
              "0  Não tem plano de saúde médico   maio  148761  \n",
              "1      Tem plano de saúde médico   maio   61541  \n",
              "2  Não tem plano de saúde médico  junho  152541  \n",
              "3      Tem plano de saúde médico  junho   56850  \n",
              "4  Não tem plano de saúde médico  julho  153307  \n",
              "5      Tem plano de saúde médico  julho   56635  "
            ],
            "text/html": [
              "\n",
              "  <div id=\"df-5d471ffc-f7b6-47fa-a1ee-022a8c3baba8\" class=\"colab-df-container\">\n",
              "    <div>\n",
              "<style scoped>\n",
              "    .dataframe tbody tr th:only-of-type {\n",
              "        vertical-align: middle;\n",
              "    }\n",
              "\n",
              "    .dataframe tbody tr th {\n",
              "        vertical-align: top;\n",
              "    }\n",
              "\n",
              "    .dataframe thead th {\n",
              "        text-align: right;\n",
              "    }\n",
              "</style>\n",
              "<table border=\"1\" class=\"dataframe\">\n",
              "  <thead>\n",
              "    <tr style=\"text-align: right;\">\n",
              "      <th></th>\n",
              "      <th>pk_indicador</th>\n",
              "      <th>indicador</th>\n",
              "      <th>variavel_abertura_2</th>\n",
              "      <th>categoria_abertura_2</th>\n",
              "      <th>mes</th>\n",
              "      <th>qtd</th>\n",
              "    </tr>\n",
              "  </thead>\n",
              "  <tbody>\n",
              "    <tr>\n",
              "      <th>0</th>\n",
              "      <td>126</td>\n",
              "      <td>População residente (mil pessoas)</td>\n",
              "      <td>Plano de Saúde Médico</td>\n",
              "      <td>Não tem plano de saúde médico</td>\n",
              "      <td>maio</td>\n",
              "      <td>148761</td>\n",
              "    </tr>\n",
              "    <tr>\n",
              "      <th>1</th>\n",
              "      <td>126</td>\n",
              "      <td>População residente (mil pessoas)</td>\n",
              "      <td>Plano de Saúde Médico</td>\n",
              "      <td>Tem plano de saúde médico</td>\n",
              "      <td>maio</td>\n",
              "      <td>61541</td>\n",
              "    </tr>\n",
              "    <tr>\n",
              "      <th>2</th>\n",
              "      <td>126</td>\n",
              "      <td>População residente (mil pessoas)</td>\n",
              "      <td>Plano de Saúde Médico</td>\n",
              "      <td>Não tem plano de saúde médico</td>\n",
              "      <td>junho</td>\n",
              "      <td>152541</td>\n",
              "    </tr>\n",
              "    <tr>\n",
              "      <th>3</th>\n",
              "      <td>126</td>\n",
              "      <td>População residente (mil pessoas)</td>\n",
              "      <td>Plano de Saúde Médico</td>\n",
              "      <td>Tem plano de saúde médico</td>\n",
              "      <td>junho</td>\n",
              "      <td>56850</td>\n",
              "    </tr>\n",
              "    <tr>\n",
              "      <th>4</th>\n",
              "      <td>126</td>\n",
              "      <td>População residente (mil pessoas)</td>\n",
              "      <td>Plano de Saúde Médico</td>\n",
              "      <td>Não tem plano de saúde médico</td>\n",
              "      <td>julho</td>\n",
              "      <td>153307</td>\n",
              "    </tr>\n",
              "    <tr>\n",
              "      <th>5</th>\n",
              "      <td>126</td>\n",
              "      <td>População residente (mil pessoas)</td>\n",
              "      <td>Plano de Saúde Médico</td>\n",
              "      <td>Tem plano de saúde médico</td>\n",
              "      <td>julho</td>\n",
              "      <td>56635</td>\n",
              "    </tr>\n",
              "  </tbody>\n",
              "</table>\n",
              "</div>\n",
              "    <div class=\"colab-df-buttons\">\n",
              "\n",
              "  <div class=\"colab-df-container\">\n",
              "    <button class=\"colab-df-convert\" onclick=\"convertToInteractive('df-5d471ffc-f7b6-47fa-a1ee-022a8c3baba8')\"\n",
              "            title=\"Convert this dataframe to an interactive table.\"\n",
              "            style=\"display:none;\">\n",
              "\n",
              "  <svg xmlns=\"http://www.w3.org/2000/svg\" height=\"24px\" viewBox=\"0 -960 960 960\">\n",
              "    <path d=\"M120-120v-720h720v720H120Zm60-500h600v-160H180v160Zm220 220h160v-160H400v160Zm0 220h160v-160H400v160ZM180-400h160v-160H180v160Zm440 0h160v-160H620v160ZM180-180h160v-160H180v160Zm440 0h160v-160H620v160Z\"/>\n",
              "  </svg>\n",
              "    </button>\n",
              "\n",
              "  <style>\n",
              "    .colab-df-container {\n",
              "      display:flex;\n",
              "      gap: 12px;\n",
              "    }\n",
              "\n",
              "    .colab-df-convert {\n",
              "      background-color: #E8F0FE;\n",
              "      border: none;\n",
              "      border-radius: 50%;\n",
              "      cursor: pointer;\n",
              "      display: none;\n",
              "      fill: #1967D2;\n",
              "      height: 32px;\n",
              "      padding: 0 0 0 0;\n",
              "      width: 32px;\n",
              "    }\n",
              "\n",
              "    .colab-df-convert:hover {\n",
              "      background-color: #E2EBFA;\n",
              "      box-shadow: 0px 1px 2px rgba(60, 64, 67, 0.3), 0px 1px 3px 1px rgba(60, 64, 67, 0.15);\n",
              "      fill: #174EA6;\n",
              "    }\n",
              "\n",
              "    .colab-df-buttons div {\n",
              "      margin-bottom: 4px;\n",
              "    }\n",
              "\n",
              "    [theme=dark] .colab-df-convert {\n",
              "      background-color: #3B4455;\n",
              "      fill: #D2E3FC;\n",
              "    }\n",
              "\n",
              "    [theme=dark] .colab-df-convert:hover {\n",
              "      background-color: #434B5C;\n",
              "      box-shadow: 0px 1px 3px 1px rgba(0, 0, 0, 0.15);\n",
              "      filter: drop-shadow(0px 1px 2px rgba(0, 0, 0, 0.3));\n",
              "      fill: #FFFFFF;\n",
              "    }\n",
              "  </style>\n",
              "\n",
              "    <script>\n",
              "      const buttonEl =\n",
              "        document.querySelector('#df-5d471ffc-f7b6-47fa-a1ee-022a8c3baba8 button.colab-df-convert');\n",
              "      buttonEl.style.display =\n",
              "        google.colab.kernel.accessAllowed ? 'block' : 'none';\n",
              "\n",
              "      async function convertToInteractive(key) {\n",
              "        const element = document.querySelector('#df-5d471ffc-f7b6-47fa-a1ee-022a8c3baba8');\n",
              "        const dataTable =\n",
              "          await google.colab.kernel.invokeFunction('convertToInteractive',\n",
              "                                                    [key], {});\n",
              "        if (!dataTable) return;\n",
              "\n",
              "        const docLinkHtml = 'Like what you see? Visit the ' +\n",
              "          '<a target=\"_blank\" href=https://colab.research.google.com/notebooks/data_table.ipynb>data table notebook</a>'\n",
              "          + ' to learn more about interactive tables.';\n",
              "        element.innerHTML = '';\n",
              "        dataTable['output_type'] = 'display_data';\n",
              "        await google.colab.output.renderOutput(dataTable, element);\n",
              "        const docLink = document.createElement('div');\n",
              "        docLink.innerHTML = docLinkHtml;\n",
              "        element.appendChild(docLink);\n",
              "      }\n",
              "    </script>\n",
              "  </div>\n",
              "\n",
              "\n",
              "<div id=\"df-308a530c-9bb2-4b6b-a37e-6113f77b21a8\">\n",
              "  <button class=\"colab-df-quickchart\" onclick=\"quickchart('df-308a530c-9bb2-4b6b-a37e-6113f77b21a8')\"\n",
              "            title=\"Suggest charts\"\n",
              "            style=\"display:none;\">\n",
              "\n",
              "<svg xmlns=\"http://www.w3.org/2000/svg\" height=\"24px\"viewBox=\"0 0 24 24\"\n",
              "     width=\"24px\">\n",
              "    <g>\n",
              "        <path d=\"M19 3H5c-1.1 0-2 .9-2 2v14c0 1.1.9 2 2 2h14c1.1 0 2-.9 2-2V5c0-1.1-.9-2-2-2zM9 17H7v-7h2v7zm4 0h-2V7h2v10zm4 0h-2v-4h2v4z\"/>\n",
              "    </g>\n",
              "</svg>\n",
              "  </button>\n",
              "\n",
              "<style>\n",
              "  .colab-df-quickchart {\n",
              "      --bg-color: #E8F0FE;\n",
              "      --fill-color: #1967D2;\n",
              "      --hover-bg-color: #E2EBFA;\n",
              "      --hover-fill-color: #174EA6;\n",
              "      --disabled-fill-color: #AAA;\n",
              "      --disabled-bg-color: #DDD;\n",
              "  }\n",
              "\n",
              "  [theme=dark] .colab-df-quickchart {\n",
              "      --bg-color: #3B4455;\n",
              "      --fill-color: #D2E3FC;\n",
              "      --hover-bg-color: #434B5C;\n",
              "      --hover-fill-color: #FFFFFF;\n",
              "      --disabled-bg-color: #3B4455;\n",
              "      --disabled-fill-color: #666;\n",
              "  }\n",
              "\n",
              "  .colab-df-quickchart {\n",
              "    background-color: var(--bg-color);\n",
              "    border: none;\n",
              "    border-radius: 50%;\n",
              "    cursor: pointer;\n",
              "    display: none;\n",
              "    fill: var(--fill-color);\n",
              "    height: 32px;\n",
              "    padding: 0;\n",
              "    width: 32px;\n",
              "  }\n",
              "\n",
              "  .colab-df-quickchart:hover {\n",
              "    background-color: var(--hover-bg-color);\n",
              "    box-shadow: 0 1px 2px rgba(60, 64, 67, 0.3), 0 1px 3px 1px rgba(60, 64, 67, 0.15);\n",
              "    fill: var(--button-hover-fill-color);\n",
              "  }\n",
              "\n",
              "  .colab-df-quickchart-complete:disabled,\n",
              "  .colab-df-quickchart-complete:disabled:hover {\n",
              "    background-color: var(--disabled-bg-color);\n",
              "    fill: var(--disabled-fill-color);\n",
              "    box-shadow: none;\n",
              "  }\n",
              "\n",
              "  .colab-df-spinner {\n",
              "    border: 2px solid var(--fill-color);\n",
              "    border-color: transparent;\n",
              "    border-bottom-color: var(--fill-color);\n",
              "    animation:\n",
              "      spin 1s steps(1) infinite;\n",
              "  }\n",
              "\n",
              "  @keyframes spin {\n",
              "    0% {\n",
              "      border-color: transparent;\n",
              "      border-bottom-color: var(--fill-color);\n",
              "      border-left-color: var(--fill-color);\n",
              "    }\n",
              "    20% {\n",
              "      border-color: transparent;\n",
              "      border-left-color: var(--fill-color);\n",
              "      border-top-color: var(--fill-color);\n",
              "    }\n",
              "    30% {\n",
              "      border-color: transparent;\n",
              "      border-left-color: var(--fill-color);\n",
              "      border-top-color: var(--fill-color);\n",
              "      border-right-color: var(--fill-color);\n",
              "    }\n",
              "    40% {\n",
              "      border-color: transparent;\n",
              "      border-right-color: var(--fill-color);\n",
              "      border-top-color: var(--fill-color);\n",
              "    }\n",
              "    60% {\n",
              "      border-color: transparent;\n",
              "      border-right-color: var(--fill-color);\n",
              "    }\n",
              "    80% {\n",
              "      border-color: transparent;\n",
              "      border-right-color: var(--fill-color);\n",
              "      border-bottom-color: var(--fill-color);\n",
              "    }\n",
              "    90% {\n",
              "      border-color: transparent;\n",
              "      border-bottom-color: var(--fill-color);\n",
              "    }\n",
              "  }\n",
              "</style>\n",
              "\n",
              "  <script>\n",
              "    async function quickchart(key) {\n",
              "      const quickchartButtonEl =\n",
              "        document.querySelector('#' + key + ' button');\n",
              "      quickchartButtonEl.disabled = true;  // To prevent multiple clicks.\n",
              "      quickchartButtonEl.classList.add('colab-df-spinner');\n",
              "      try {\n",
              "        const charts = await google.colab.kernel.invokeFunction(\n",
              "            'suggestCharts', [key], {});\n",
              "      } catch (error) {\n",
              "        console.error('Error during call to suggestCharts:', error);\n",
              "      }\n",
              "      quickchartButtonEl.classList.remove('colab-df-spinner');\n",
              "      quickchartButtonEl.classList.add('colab-df-quickchart-complete');\n",
              "    }\n",
              "    (() => {\n",
              "      let quickchartButtonEl =\n",
              "        document.querySelector('#df-308a530c-9bb2-4b6b-a37e-6113f77b21a8 button');\n",
              "      quickchartButtonEl.style.display =\n",
              "        google.colab.kernel.accessAllowed ? 'block' : 'none';\n",
              "    })();\n",
              "  </script>\n",
              "</div>\n",
              "    </div>\n",
              "  </div>\n"
            ]
          },
          "metadata": {},
          "execution_count": 46
        }
      ]
    },
    {
      "cell_type": "code",
      "source": [
        "df_melt_julho = df_melt_geral[df_melt_geral['mes']=='julho']"
      ],
      "metadata": {
        "id": "2KSeEdAKjAsW",
        "executionInfo": {
          "status": "ok",
          "timestamp": 1727813850209,
          "user_tz": 180,
          "elapsed": 8,
          "user": {
            "displayName": "",
            "userId": ""
          }
        }
      },
      "execution_count": 47,
      "outputs": []
    },
    {
      "cell_type": "code",
      "source": [
        "df_melt_julho['total'] = df_melt_julho['qtd'].sum()\n",
        "df_melt_julho['%'] = df_melt_julho['qtd']/df_melt_julho['total']"
      ],
      "metadata": {
        "colab": {
          "base_uri": "https://localhost:8080/"
        },
        "id": "PjIt5TAmjRlk",
        "executionInfo": {
          "status": "ok",
          "timestamp": 1727813850210,
          "user_tz": 180,
          "elapsed": 8,
          "user": {
            "displayName": "",
            "userId": ""
          }
        },
        "outputId": "9fc2acd6-4a87-49ee-e416-1df078c2d888"
      },
      "execution_count": 48,
      "outputs": [
        {
          "output_type": "stream",
          "name": "stderr",
          "text": [
            "<ipython-input-48-bed157f9de6e>:1: SettingWithCopyWarning: \n",
            "A value is trying to be set on a copy of a slice from a DataFrame.\n",
            "Try using .loc[row_indexer,col_indexer] = value instead\n",
            "\n",
            "See the caveats in the documentation: https://pandas.pydata.org/pandas-docs/stable/user_guide/indexing.html#returning-a-view-versus-a-copy\n",
            "  df_melt_julho['total'] = df_melt_julho['qtd'].sum()\n",
            "<ipython-input-48-bed157f9de6e>:2: SettingWithCopyWarning: \n",
            "A value is trying to be set on a copy of a slice from a DataFrame.\n",
            "Try using .loc[row_indexer,col_indexer] = value instead\n",
            "\n",
            "See the caveats in the documentation: https://pandas.pydata.org/pandas-docs/stable/user_guide/indexing.html#returning-a-view-versus-a-copy\n",
            "  df_melt_julho['%'] = df_melt_julho['qtd']/df_melt_julho['total']\n"
          ]
        }
      ]
    },
    {
      "cell_type": "code",
      "source": [
        "df_melt_julho"
      ],
      "metadata": {
        "colab": {
          "base_uri": "https://localhost:8080/",
          "height": 112
        },
        "id": "YWhBdrXnj69E",
        "executionInfo": {
          "status": "ok",
          "timestamp": 1727813850210,
          "user_tz": 180,
          "elapsed": 6,
          "user": {
            "displayName": "",
            "userId": ""
          }
        },
        "outputId": "7f9fbc60-f2a6-4027-8a76-aeb66fa1a96d"
      },
      "execution_count": 49,
      "outputs": [
        {
          "output_type": "execute_result",
          "data": {
            "text/plain": [
              "   pk_indicador                          indicador    variavel_abertura_2  \\\n",
              "4           126  População residente (mil pessoas)  Plano de Saúde Médico   \n",
              "5           126  População residente (mil pessoas)  Plano de Saúde Médico   \n",
              "\n",
              "            categoria_abertura_2    mes     qtd   total         %  \n",
              "4  Não tem plano de saúde médico  julho  153307  209942  0.730235  \n",
              "5      Tem plano de saúde médico  julho   56635  209942  0.269765  "
            ],
            "text/html": [
              "\n",
              "  <div id=\"df-3acd7bf9-d6ea-4dfa-b5f1-93ed97bebcef\" class=\"colab-df-container\">\n",
              "    <div>\n",
              "<style scoped>\n",
              "    .dataframe tbody tr th:only-of-type {\n",
              "        vertical-align: middle;\n",
              "    }\n",
              "\n",
              "    .dataframe tbody tr th {\n",
              "        vertical-align: top;\n",
              "    }\n",
              "\n",
              "    .dataframe thead th {\n",
              "        text-align: right;\n",
              "    }\n",
              "</style>\n",
              "<table border=\"1\" class=\"dataframe\">\n",
              "  <thead>\n",
              "    <tr style=\"text-align: right;\">\n",
              "      <th></th>\n",
              "      <th>pk_indicador</th>\n",
              "      <th>indicador</th>\n",
              "      <th>variavel_abertura_2</th>\n",
              "      <th>categoria_abertura_2</th>\n",
              "      <th>mes</th>\n",
              "      <th>qtd</th>\n",
              "      <th>total</th>\n",
              "      <th>%</th>\n",
              "    </tr>\n",
              "  </thead>\n",
              "  <tbody>\n",
              "    <tr>\n",
              "      <th>4</th>\n",
              "      <td>126</td>\n",
              "      <td>População residente (mil pessoas)</td>\n",
              "      <td>Plano de Saúde Médico</td>\n",
              "      <td>Não tem plano de saúde médico</td>\n",
              "      <td>julho</td>\n",
              "      <td>153307</td>\n",
              "      <td>209942</td>\n",
              "      <td>0.730235</td>\n",
              "    </tr>\n",
              "    <tr>\n",
              "      <th>5</th>\n",
              "      <td>126</td>\n",
              "      <td>População residente (mil pessoas)</td>\n",
              "      <td>Plano de Saúde Médico</td>\n",
              "      <td>Tem plano de saúde médico</td>\n",
              "      <td>julho</td>\n",
              "      <td>56635</td>\n",
              "      <td>209942</td>\n",
              "      <td>0.269765</td>\n",
              "    </tr>\n",
              "  </tbody>\n",
              "</table>\n",
              "</div>\n",
              "    <div class=\"colab-df-buttons\">\n",
              "\n",
              "  <div class=\"colab-df-container\">\n",
              "    <button class=\"colab-df-convert\" onclick=\"convertToInteractive('df-3acd7bf9-d6ea-4dfa-b5f1-93ed97bebcef')\"\n",
              "            title=\"Convert this dataframe to an interactive table.\"\n",
              "            style=\"display:none;\">\n",
              "\n",
              "  <svg xmlns=\"http://www.w3.org/2000/svg\" height=\"24px\" viewBox=\"0 -960 960 960\">\n",
              "    <path d=\"M120-120v-720h720v720H120Zm60-500h600v-160H180v160Zm220 220h160v-160H400v160Zm0 220h160v-160H400v160ZM180-400h160v-160H180v160Zm440 0h160v-160H620v160ZM180-180h160v-160H180v160Zm440 0h160v-160H620v160Z\"/>\n",
              "  </svg>\n",
              "    </button>\n",
              "\n",
              "  <style>\n",
              "    .colab-df-container {\n",
              "      display:flex;\n",
              "      gap: 12px;\n",
              "    }\n",
              "\n",
              "    .colab-df-convert {\n",
              "      background-color: #E8F0FE;\n",
              "      border: none;\n",
              "      border-radius: 50%;\n",
              "      cursor: pointer;\n",
              "      display: none;\n",
              "      fill: #1967D2;\n",
              "      height: 32px;\n",
              "      padding: 0 0 0 0;\n",
              "      width: 32px;\n",
              "    }\n",
              "\n",
              "    .colab-df-convert:hover {\n",
              "      background-color: #E2EBFA;\n",
              "      box-shadow: 0px 1px 2px rgba(60, 64, 67, 0.3), 0px 1px 3px 1px rgba(60, 64, 67, 0.15);\n",
              "      fill: #174EA6;\n",
              "    }\n",
              "\n",
              "    .colab-df-buttons div {\n",
              "      margin-bottom: 4px;\n",
              "    }\n",
              "\n",
              "    [theme=dark] .colab-df-convert {\n",
              "      background-color: #3B4455;\n",
              "      fill: #D2E3FC;\n",
              "    }\n",
              "\n",
              "    [theme=dark] .colab-df-convert:hover {\n",
              "      background-color: #434B5C;\n",
              "      box-shadow: 0px 1px 3px 1px rgba(0, 0, 0, 0.15);\n",
              "      filter: drop-shadow(0px 1px 2px rgba(0, 0, 0, 0.3));\n",
              "      fill: #FFFFFF;\n",
              "    }\n",
              "  </style>\n",
              "\n",
              "    <script>\n",
              "      const buttonEl =\n",
              "        document.querySelector('#df-3acd7bf9-d6ea-4dfa-b5f1-93ed97bebcef button.colab-df-convert');\n",
              "      buttonEl.style.display =\n",
              "        google.colab.kernel.accessAllowed ? 'block' : 'none';\n",
              "\n",
              "      async function convertToInteractive(key) {\n",
              "        const element = document.querySelector('#df-3acd7bf9-d6ea-4dfa-b5f1-93ed97bebcef');\n",
              "        const dataTable =\n",
              "          await google.colab.kernel.invokeFunction('convertToInteractive',\n",
              "                                                    [key], {});\n",
              "        if (!dataTable) return;\n",
              "\n",
              "        const docLinkHtml = 'Like what you see? Visit the ' +\n",
              "          '<a target=\"_blank\" href=https://colab.research.google.com/notebooks/data_table.ipynb>data table notebook</a>'\n",
              "          + ' to learn more about interactive tables.';\n",
              "        element.innerHTML = '';\n",
              "        dataTable['output_type'] = 'display_data';\n",
              "        await google.colab.output.renderOutput(dataTable, element);\n",
              "        const docLink = document.createElement('div');\n",
              "        docLink.innerHTML = docLinkHtml;\n",
              "        element.appendChild(docLink);\n",
              "      }\n",
              "    </script>\n",
              "  </div>\n",
              "\n",
              "\n",
              "<div id=\"df-cb9eb07e-80f5-4b9b-b6f3-f8401a30faa5\">\n",
              "  <button class=\"colab-df-quickchart\" onclick=\"quickchart('df-cb9eb07e-80f5-4b9b-b6f3-f8401a30faa5')\"\n",
              "            title=\"Suggest charts\"\n",
              "            style=\"display:none;\">\n",
              "\n",
              "<svg xmlns=\"http://www.w3.org/2000/svg\" height=\"24px\"viewBox=\"0 0 24 24\"\n",
              "     width=\"24px\">\n",
              "    <g>\n",
              "        <path d=\"M19 3H5c-1.1 0-2 .9-2 2v14c0 1.1.9 2 2 2h14c1.1 0 2-.9 2-2V5c0-1.1-.9-2-2-2zM9 17H7v-7h2v7zm4 0h-2V7h2v10zm4 0h-2v-4h2v4z\"/>\n",
              "    </g>\n",
              "</svg>\n",
              "  </button>\n",
              "\n",
              "<style>\n",
              "  .colab-df-quickchart {\n",
              "      --bg-color: #E8F0FE;\n",
              "      --fill-color: #1967D2;\n",
              "      --hover-bg-color: #E2EBFA;\n",
              "      --hover-fill-color: #174EA6;\n",
              "      --disabled-fill-color: #AAA;\n",
              "      --disabled-bg-color: #DDD;\n",
              "  }\n",
              "\n",
              "  [theme=dark] .colab-df-quickchart {\n",
              "      --bg-color: #3B4455;\n",
              "      --fill-color: #D2E3FC;\n",
              "      --hover-bg-color: #434B5C;\n",
              "      --hover-fill-color: #FFFFFF;\n",
              "      --disabled-bg-color: #3B4455;\n",
              "      --disabled-fill-color: #666;\n",
              "  }\n",
              "\n",
              "  .colab-df-quickchart {\n",
              "    background-color: var(--bg-color);\n",
              "    border: none;\n",
              "    border-radius: 50%;\n",
              "    cursor: pointer;\n",
              "    display: none;\n",
              "    fill: var(--fill-color);\n",
              "    height: 32px;\n",
              "    padding: 0;\n",
              "    width: 32px;\n",
              "  }\n",
              "\n",
              "  .colab-df-quickchart:hover {\n",
              "    background-color: var(--hover-bg-color);\n",
              "    box-shadow: 0 1px 2px rgba(60, 64, 67, 0.3), 0 1px 3px 1px rgba(60, 64, 67, 0.15);\n",
              "    fill: var(--button-hover-fill-color);\n",
              "  }\n",
              "\n",
              "  .colab-df-quickchart-complete:disabled,\n",
              "  .colab-df-quickchart-complete:disabled:hover {\n",
              "    background-color: var(--disabled-bg-color);\n",
              "    fill: var(--disabled-fill-color);\n",
              "    box-shadow: none;\n",
              "  }\n",
              "\n",
              "  .colab-df-spinner {\n",
              "    border: 2px solid var(--fill-color);\n",
              "    border-color: transparent;\n",
              "    border-bottom-color: var(--fill-color);\n",
              "    animation:\n",
              "      spin 1s steps(1) infinite;\n",
              "  }\n",
              "\n",
              "  @keyframes spin {\n",
              "    0% {\n",
              "      border-color: transparent;\n",
              "      border-bottom-color: var(--fill-color);\n",
              "      border-left-color: var(--fill-color);\n",
              "    }\n",
              "    20% {\n",
              "      border-color: transparent;\n",
              "      border-left-color: var(--fill-color);\n",
              "      border-top-color: var(--fill-color);\n",
              "    }\n",
              "    30% {\n",
              "      border-color: transparent;\n",
              "      border-left-color: var(--fill-color);\n",
              "      border-top-color: var(--fill-color);\n",
              "      border-right-color: var(--fill-color);\n",
              "    }\n",
              "    40% {\n",
              "      border-color: transparent;\n",
              "      border-right-color: var(--fill-color);\n",
              "      border-top-color: var(--fill-color);\n",
              "    }\n",
              "    60% {\n",
              "      border-color: transparent;\n",
              "      border-right-color: var(--fill-color);\n",
              "    }\n",
              "    80% {\n",
              "      border-color: transparent;\n",
              "      border-right-color: var(--fill-color);\n",
              "      border-bottom-color: var(--fill-color);\n",
              "    }\n",
              "    90% {\n",
              "      border-color: transparent;\n",
              "      border-bottom-color: var(--fill-color);\n",
              "    }\n",
              "  }\n",
              "</style>\n",
              "\n",
              "  <script>\n",
              "    async function quickchart(key) {\n",
              "      const quickchartButtonEl =\n",
              "        document.querySelector('#' + key + ' button');\n",
              "      quickchartButtonEl.disabled = true;  // To prevent multiple clicks.\n",
              "      quickchartButtonEl.classList.add('colab-df-spinner');\n",
              "      try {\n",
              "        const charts = await google.colab.kernel.invokeFunction(\n",
              "            'suggestCharts', [key], {});\n",
              "      } catch (error) {\n",
              "        console.error('Error during call to suggestCharts:', error);\n",
              "      }\n",
              "      quickchartButtonEl.classList.remove('colab-df-spinner');\n",
              "      quickchartButtonEl.classList.add('colab-df-quickchart-complete');\n",
              "    }\n",
              "    (() => {\n",
              "      let quickchartButtonEl =\n",
              "        document.querySelector('#df-cb9eb07e-80f5-4b9b-b6f3-f8401a30faa5 button');\n",
              "      quickchartButtonEl.style.display =\n",
              "        google.colab.kernel.accessAllowed ? 'block' : 'none';\n",
              "    })();\n",
              "  </script>\n",
              "</div>\n",
              "    </div>\n",
              "  </div>\n"
            ]
          },
          "metadata": {},
          "execution_count": 49
        }
      ]
    },
    {
      "cell_type": "code",
      "source": [
        "labels = ['Não tem Plano de saúde', 'Tem plano de saúde']\n",
        "sizes = [8, 8]\n",
        "colors = ['red', 'blue']\n",
        "\n",
        "\n",
        "\n",
        "graf = df_melt_julho.plot.pie(y='%',figsize=sizes, colors=colors, autopct='%1.1f%%',textprops={'color': 'white', 'fontsize': 14})\n",
        "plt.title('Pessoas com plano de saúde')\n",
        "plt.axis('off')\n",
        "plt.legend(labels, loc=\"best\")\n",
        "\n",
        "plt.show()"
      ],
      "metadata": {
        "colab": {
          "base_uri": "https://localhost:8080/",
          "height": 675
        },
        "id": "bbpwMRJBVwp-",
        "executionInfo": {
          "status": "ok",
          "timestamp": 1727813850850,
          "user_tz": 180,
          "elapsed": 645,
          "user": {
            "displayName": "",
            "userId": ""
          }
        },
        "outputId": "51c36d63-4101-46e9-9840-e98fcf47a863"
      },
      "execution_count": 50,
      "outputs": [
        {
          "output_type": "display_data",
          "data": {
            "text/plain": [
              "<Figure size 800x800 with 1 Axes>"
            ],
            "image/png": "[encoded data removed]"
          },
          "metadata": {}
        }
      ]
    },
    {
      "cell_type": "code",
      "source": [
        "residentes_regiao = \"\"\"\n",
        "select\n",
        " pk_indicador\n",
        ",indicador\n",
        ",abertura_territorio\n",
        ",case when categoria_abertura_1 like '%59%' then 'ate 59 anos' else 'mais 60 anos' end as categoria_abertura_1\n",
        ",variavel_abertura_2\n",
        ",categoria_abertura_2\n",
        ",sum(cast(replace(maio,' ','') as int)) as maio\n",
        ",sum(cast(replace(junho,' ','') as int)) as junho\n",
        ",sum(cast(replace(julho,' ','') as int)) as julho\n",
        " from `pnad_covid.tb_regiao`\n",
        "where\n",
        "tipo_dado = 'quantidade' and\n",
        "maio is not null and junho is not null and julho is not null\n",
        "and pk_indicador = 126\n",
        "and variavel_abertura_1 = 'Grupos de Idade 2'\n",
        "and categoria_abertura_2 is not null\n",
        "group by\n",
        "pk_indicador\n",
        ",categoria_abertura_1\n",
        ",indicador\n",
        ",variavel_abertura_2\n",
        ",categoria_abertura_2\n",
        ",abertura_territorio\n",
        "\"\"\"\n",
        "\n",
        "df_residentes_regiao= client.query(residentes_regiao).to_dataframe()"
      ],
      "metadata": {
        "id": "E7PLRwrHV4AN",
        "executionInfo": {
          "status": "ok",
          "timestamp": 1727813853354,
          "user_tz": 180,
          "elapsed": 2513,
          "user": {
            "displayName": "",
            "userId": ""
          }
        }
      },
      "execution_count": 51,
      "outputs": []
    },
    {
      "cell_type": "code",
      "source": [
        "df_residentes_regiao"
      ],
      "metadata": {
        "colab": {
          "base_uri": "https://localhost:8080/",
          "height": 1000
        },
        "id": "pYoUgehCWic6",
        "executionInfo": {
          "status": "ok",
          "timestamp": 1727813853354,
          "user_tz": 180,
          "elapsed": 20,
          "user": {
            "displayName": "",
            "userId": ""
          }
        },
        "outputId": "0db9ddb8-a88d-4f6a-a5c6-255153c670e9"
      },
      "execution_count": 52,
      "outputs": [
        {
          "output_type": "execute_result",
          "data": {
            "text/plain": [
              "    pk_indicador                          indicador abertura_territorio  \\\n",
              "0            126  População residente (mil pessoas)                 Sul   \n",
              "1            126  População residente (mil pessoas)            Nordeste   \n",
              "2            126  População residente (mil pessoas)               Norte   \n",
              "3            126  População residente (mil pessoas)         CentroOeste   \n",
              "4            126  População residente (mil pessoas)               Norte   \n",
              "5            126  População residente (mil pessoas)             Sudeste   \n",
              "6            126  População residente (mil pessoas)             Sudeste   \n",
              "7            126  População residente (mil pessoas)         CentroOeste   \n",
              "8            126  População residente (mil pessoas)                 Sul   \n",
              "9            126  População residente (mil pessoas)            Nordeste   \n",
              "10           126  População residente (mil pessoas)            Nordeste   \n",
              "11           126  População residente (mil pessoas)                 Sul   \n",
              "12           126  População residente (mil pessoas)               Norte   \n",
              "13           126  População residente (mil pessoas)               Norte   \n",
              "14           126  População residente (mil pessoas)             Sudeste   \n",
              "15           126  População residente (mil pessoas)                 Sul   \n",
              "16           126  População residente (mil pessoas)         CentroOeste   \n",
              "17           126  População residente (mil pessoas)         CentroOeste   \n",
              "18           126  População residente (mil pessoas)             Sudeste   \n",
              "19           126  População residente (mil pessoas)            Nordeste   \n",
              "\n",
              "   categoria_abertura_1    variavel_abertura_2           categoria_abertura_2  \\\n",
              "0           ate 59 anos  Plano de Saúde Médico      Tem plano de saúde médico   \n",
              "1           ate 59 anos  Plano de Saúde Médico  Não tem plano de saúde médico   \n",
              "2           ate 59 anos  Plano de Saúde Médico      Tem plano de saúde médico   \n",
              "3           ate 59 anos  Plano de Saúde Médico  Não tem plano de saúde médico   \n",
              "4           ate 59 anos  Plano de Saúde Médico  Não tem plano de saúde médico   \n",
              "5           ate 59 anos  Plano de Saúde Médico  Não tem plano de saúde médico   \n",
              "6           ate 59 anos  Plano de Saúde Médico      Tem plano de saúde médico   \n",
              "7           ate 59 anos  Plano de Saúde Médico      Tem plano de saúde médico   \n",
              "8           ate 59 anos  Plano de Saúde Médico  Não tem plano de saúde médico   \n",
              "9           ate 59 anos  Plano de Saúde Médico      Tem plano de saúde médico   \n",
              "10         mais 60 anos  Plano de Saúde Médico  Não tem plano de saúde médico   \n",
              "11         mais 60 anos  Plano de Saúde Médico      Tem plano de saúde médico   \n",
              "12         mais 60 anos  Plano de Saúde Médico  Não tem plano de saúde médico   \n",
              "13         mais 60 anos  Plano de Saúde Médico      Tem plano de saúde médico   \n",
              "14         mais 60 anos  Plano de Saúde Médico  Não tem plano de saúde médico   \n",
              "15         mais 60 anos  Plano de Saúde Médico  Não tem plano de saúde médico   \n",
              "16         mais 60 anos  Plano de Saúde Médico  Não tem plano de saúde médico   \n",
              "17         mais 60 anos  Plano de Saúde Médico      Tem plano de saúde médico   \n",
              "18         mais 60 anos  Plano de Saúde Médico      Tem plano de saúde médico   \n",
              "19         mais 60 anos  Plano de Saúde Médico      Tem plano de saúde médico   \n",
              "\n",
              "     maio  junho  julho  \n",
              "0    8492   7746   7774  \n",
              "1   41638  42164  42398  \n",
              "2    2329   2012   1961  \n",
              "3   10187  10305  10474  \n",
              "4   14330  14567  14652  \n",
              "5   46381  48067  48144  \n",
              "6   28016  25912  25944  \n",
              "7    4175   3962   3859  \n",
              "8   16594  17202  17241  \n",
              "9    8271   7583   7448  \n",
              "10   5672   5780   5826  \n",
              "11   1859   1707   1683  \n",
              "12   1324   1338   1348  \n",
              "13    282    262    259  \n",
              "14   8212   8509   8549  \n",
              "15   3118   3267   3321  \n",
              "16   1305   1341   1354  \n",
              "17    646    614    609  \n",
              "18   5957   5650   5704  \n",
              "19   1514   1402   1392  "
            ],
            "text/html": [
              "\n",
              "  <div id=\"df-681464ec-ae7d-4964-8214-2c6bc9b50d1b\" class=\"colab-df-container\">\n",
              "    <div>\n",
              "<style scoped>\n",
              "    .dataframe tbody tr th:only-of-type {\n",
              "        vertical-align: middle;\n",
              "    }\n",
              "\n",
              "    .dataframe tbody tr th {\n",
              "        vertical-align: top;\n",
              "    }\n",
              "\n",
              "    .dataframe thead th {\n",
              "        text-align: right;\n",
              "    }\n",
              "</style>\n",
              "<table border=\"1\" class=\"dataframe\">\n",
              "  <thead>\n",
              "    <tr style=\"text-align: right;\">\n",
              "      <th></th>\n",
              "      <th>pk_indicador</th>\n",
              "      <th>indicador</th>\n",
              "      <th>abertura_territorio</th>\n",
              "      <th>categoria_abertura_1</th>\n",
              "      <th>variavel_abertura_2</th>\n",
              "      <th>categoria_abertura_2</th>\n",
              "      <th>maio</th>\n",
              "      <th>junho</th>\n",
              "      <th>julho</th>\n",
              "    </tr>\n",
              "  </thead>\n",
              "  <tbody>\n",
              "    <tr>\n",
              "      <th>0</th>\n",
              "      <td>126</td>\n",
              "      <td>População residente (mil pessoas)</td>\n",
              "      <td>Sul</td>\n",
              "      <td>ate 59 anos</td>\n",
              "      <td>Plano de Saúde Médico</td>\n",
              "      <td>Tem plano de saúde médico</td>\n",
              "      <td>8492</td>\n",
              "      <td>7746</td>\n",
              "      <td>7774</td>\n",
              "    </tr>\n",
              "    <tr>\n",
              "      <th>1</th>\n",
              "      <td>126</td>\n",
              "      <td>População residente (mil pessoas)</td>\n",
              "      <td>Nordeste</td>\n",
              "      <td>ate 59 anos</td>\n",
              "      <td>Plano de Saúde Médico</td>\n",
              "      <td>Não tem plano de saúde médico</td>\n",
              "      <td>41638</td>\n",
              "      <td>42164</td>\n",
              "      <td>42398</td>\n",
              "    </tr>\n",
              "    <tr>\n",
              "      <th>2</th>\n",
              "      <td>126</td>\n",
              "      <td>População residente (mil pessoas)</td>\n",
              "      <td>Norte</td>\n",
              "      <td>ate 59 anos</td>\n",
              "      <td>Plano de Saúde Médico</td>\n",
              "      <td>Tem plano de saúde médico</td>\n",
              "      <td>2329</td>\n",
              "      <td>2012</td>\n",
              "      <td>1961</td>\n",
              "    </tr>\n",
              "    <tr>\n",
              "      <th>3</th>\n",
              "      <td>126</td>\n",
              "      <td>População residente (mil pessoas)</td>\n",
              "      <td>CentroOeste</td>\n",
              "      <td>ate 59 anos</td>\n",
              "      <td>Plano de Saúde Médico</td>\n",
              "      <td>Não tem plano de saúde médico</td>\n",
              "      <td>10187</td>\n",
              "      <td>10305</td>\n",
              "      <td>10474</td>\n",
              "    </tr>\n",
              "    <tr>\n",
              "      <th>4</th>\n",
              "      <td>126</td>\n",
              "      <td>População residente (mil pessoas)</td>\n",
              "      <td>Norte</td>\n",
              "      <td>ate 59 anos</td>\n",
              "      <td>Plano de Saúde Médico</td>\n",
              "      <td>Não tem plano de saúde médico</td>\n",
              "      <td>14330</td>\n",
              "      <td>14567</td>\n",
              "      <td>14652</td>\n",
              "    </tr>\n",
              "    <tr>\n",
              "      <th>5</th>\n",
              "      <td>126</td>\n",
              "      <td>População residente (mil pessoas)</td>\n",
              "      <td>Sudeste</td>\n",
              "      <td>ate 59 anos</td>\n",
              "      <td>Plano de Saúde Médico</td>\n",
              "      <td>Não tem plano de saúde médico</td>\n",
              "      <td>46381</td>\n",
              "      <td>48067</td>\n",
              "      <td>48144</td>\n",
              "    </tr>\n",
              "    <tr>\n",
              "      <th>6</th>\n",
              "      <td>126</td>\n",
              "      <td>População residente (mil pessoas)</td>\n",
              "      <td>Sudeste</td>\n",
              "      <td>ate 59 anos</td>\n",
              "      <td>Plano de Saúde Médico</td>\n",
              "      <td>Tem plano de saúde médico</td>\n",
              "      <td>28016</td>\n",
              "      <td>25912</td>\n",
              "      <td>25944</td>\n",
              "    </tr>\n",
              "    <tr>\n",
              "      <th>7</th>\n",
              "      <td>126</td>\n",
              "      <td>População residente (mil pessoas)</td>\n",
              "      <td>CentroOeste</td>\n",
              "      <td>ate 59 anos</td>\n",
              "      <td>Plano de Saúde Médico</td>\n",
              "      <td>Tem plano de saúde médico</td>\n",
              "      <td>4175</td>\n",
              "      <td>3962</td>\n",
              "      <td>3859</td>\n",
              "    </tr>\n",
              "    <tr>\n",
              "      <th>8</th>\n",
              "      <td>126</td>\n",
              "      <td>População residente (mil pessoas)</td>\n",
              "      <td>Sul</td>\n",
              "      <td>ate 59 anos</td>\n",
              "      <td>Plano de Saúde Médico</td>\n",
              "      <td>Não tem plano de saúde médico</td>\n",
              "      <td>16594</td>\n",
              "      <td>17202</td>\n",
              "      <td>17241</td>\n",
              "    </tr>\n",
              "    <tr>\n",
              "      <th>9</th>\n",
              "      <td>126</td>\n",
              "      <td>População residente (mil pessoas)</td>\n",
              "      <td>Nordeste</td>\n",
              "      <td>ate 59 anos</td>\n",
              "      <td>Plano de Saúde Médico</td>\n",
              "      <td>Tem plano de saúde médico</td>\n",
              "      <td>8271</td>\n",
              "      <td>7583</td>\n",
              "      <td>7448</td>\n",
              "    </tr>\n",
              "    <tr>\n",
              "      <th>10</th>\n",
              "      <td>126</td>\n",
              "      <td>População residente (mil pessoas)</td>\n",
              "      <td>Nordeste</td>\n",
              "      <td>mais 60 anos</td>\n",
              "      <td>Plano de Saúde Médico</td>\n",
              "      <td>Não tem plano de saúde médico</td>\n",
              "      <td>5672</td>\n",
              "      <td>5780</td>\n",
              "      <td>5826</td>\n",
              "    </tr>\n",
              "    <tr>\n",
              "      <th>11</th>\n",
              "      <td>126</td>\n",
              "      <td>População residente (mil pessoas)</td>\n",
              "      <td>Sul</td>\n",
              "      <td>mais 60 anos</td>\n",
              "      <td>Plano de Saúde Médico</td>\n",
              "      <td>Tem plano de saúde médico</td>\n",
              "      <td>1859</td>\n",
              "      <td>1707</td>\n",
              "      <td>1683</td>\n",
              "    </tr>\n",
              "    <tr>\n",
              "      <th>12</th>\n",
              "      <td>126</td>\n",
              "      <td>População residente (mil pessoas)</td>\n",
              "      <td>Norte</td>\n",
              "      <td>mais 60 anos</td>\n",
              "      <td>Plano de Saúde Médico</td>\n",
              "      <td>Não tem plano de saúde médico</td>\n",
              "      <td>1324</td>\n",
              "      <td>1338</td>\n",
              "      <td>1348</td>\n",
              "    </tr>\n",
              "    <tr>\n",
              "      <th>13</th>\n",
              "      <td>126</td>\n",
              "      <td>População residente (mil pessoas)</td>\n",
              "      <td>Norte</td>\n",
              "      <td>mais 60 anos</td>\n",
              "      <td>Plano de Saúde Médico</td>\n",
              "      <td>Tem plano de saúde médico</td>\n",
              "      <td>282</td>\n",
              "      <td>262</td>\n",
              "      <td>259</td>\n",
              "    </tr>\n",
              "    <tr>\n",
              "      <th>14</th>\n",
              "      <td>126</td>\n",
              "      <td>População residente (mil pessoas)</td>\n",
              "      <td>Sudeste</td>\n",
              "      <td>mais 60 anos</td>\n",
              "      <td>Plano de Saúde Médico</td>\n",
              "      <td>Não tem plano de saúde médico</td>\n",
              "      <td>8212</td>\n",
              "      <td>8509</td>\n",
              "      <td>8549</td>\n",
              "    </tr>\n",
              "    <tr>\n",
              "      <th>15</th>\n",
              "      <td>126</td>\n",
              "      <td>População residente (mil pessoas)</td>\n",
              "      <td>Sul</td>\n",
              "      <td>mais 60 anos</td>\n",
              "      <td>Plano de Saúde Médico</td>\n",
              "      <td>Não tem plano de saúde médico</td>\n",
              "      <td>3118</td>\n",
              "      <td>3267</td>\n",
              "      <td>3321</td>\n",
              "    </tr>\n",
              "    <tr>\n",
              "      <th>16</th>\n",
              "      <td>126</td>\n",
              "      <td>População residente (mil pessoas)</td>\n",
              "      <td>CentroOeste</td>\n",
              "      <td>mais 60 anos</td>\n",
              "      <td>Plano de Saúde Médico</td>\n",
              "      <td>Não tem plano de saúde médico</td>\n",
              "      <td>1305</td>\n",
              "      <td>1341</td>\n",
              "      <td>1354</td>\n",
              "    </tr>\n",
              "    <tr>\n",
              "      <th>17</th>\n",
              "      <td>126</td>\n",
              "      <td>População residente (mil pessoas)</td>\n",
              "      <td>CentroOeste</td>\n",
              "      <td>mais 60 anos</td>\n",
              "      <td>Plano de Saúde Médico</td>\n",
              "      <td>Tem plano de saúde médico</td>\n",
              "      <td>646</td>\n",
              "      <td>614</td>\n",
              "      <td>609</td>\n",
              "    </tr>\n",
              "    <tr>\n",
              "      <th>18</th>\n",
              "      <td>126</td>\n",
              "      <td>População residente (mil pessoas)</td>\n",
              "      <td>Sudeste</td>\n",
              "      <td>mais 60 anos</td>\n",
              "      <td>Plano de Saúde Médico</td>\n",
              "      <td>Tem plano de saúde médico</td>\n",
              "      <td>5957</td>\n",
              "      <td>5650</td>\n",
              "      <td>5704</td>\n",
              "    </tr>\n",
              "    <tr>\n",
              "      <th>19</th>\n",
              "      <td>126</td>\n",
              "      <td>População residente (mil pessoas)</td>\n",
              "      <td>Nordeste</td>\n",
              "      <td>mais 60 anos</td>\n",
              "      <td>Plano de Saúde Médico</td>\n",
              "      <td>Tem plano de saúde médico</td>\n",
              "      <td>1514</td>\n",
              "      <td>1402</td>\n",
              "      <td>1392</td>\n",
              "    </tr>\n",
              "  </tbody>\n",
              "</table>\n",
              "</div>\n",
              "    <div class=\"colab-df-buttons\">\n",
              "\n",
              "  <div class=\"colab-df-container\">\n",
              "    <button class=\"colab-df-convert\" onclick=\"convertToInteractive('df-681464ec-ae7d-4964-8214-2c6bc9b50d1b')\"\n",
              "            title=\"Convert this dataframe to an interactive table.\"\n",
              "            style=\"display:none;\">\n",
              "\n",
              "  <svg xmlns=\"http://www.w3.org/2000/svg\" height=\"24px\" viewBox=\"0 -960 960 960\">\n",
              "    <path d=\"M120-120v-720h720v720H120Zm60-500h600v-160H180v160Zm220 220h160v-160H400v160Zm0 220h160v-160H400v160ZM180-400h160v-160H180v160Zm440 0h160v-160H620v160ZM180-180h160v-160H180v160Zm440 0h160v-160H620v160Z\"/>\n",
              "  </svg>\n",
              "    </button>\n",
              "\n",
              "  <style>\n",
              "    .colab-df-container {\n",
              "      display:flex;\n",
              "      gap: 12px;\n",
              "    }\n",
              "\n",
              "    .colab-df-convert {\n",
              "      background-color: #E8F0FE;\n",
              "      border: none;\n",
              "      border-radius: 50%;\n",
              "      cursor: pointer;\n",
              "      display: none;\n",
              "      fill: #1967D2;\n",
              "      height: 32px;\n",
              "      padding: 0 0 0 0;\n",
              "      width: 32px;\n",
              "    }\n",
              "\n",
              "    .colab-df-convert:hover {\n",
              "      background-color: #E2EBFA;\n",
              "      box-shadow: 0px 1px 2px rgba(60, 64, 67, 0.3), 0px 1px 3px 1px rgba(60, 64, 67, 0.15);\n",
              "      fill: #174EA6;\n",
              "    }\n",
              "\n",
              "    .colab-df-buttons div {\n",
              "      margin-bottom: 4px;\n",
              "    }\n",
              "\n",
              "    [theme=dark] .colab-df-convert {\n",
              "      background-color: #3B4455;\n",
              "      fill: #D2E3FC;\n",
              "    }\n",
              "\n",
              "    [theme=dark] .colab-df-convert:hover {\n",
              "      background-color: #434B5C;\n",
              "      box-shadow: 0px 1px 3px 1px rgba(0, 0, 0, 0.15);\n",
              "      filter: drop-shadow(0px 1px 2px rgba(0, 0, 0, 0.3));\n",
              "      fill: #FFFFFF;\n",
              "    }\n",
              "  </style>\n",
              "\n",
              "    <script>\n",
              "      const buttonEl =\n",
              "        document.querySelector('#df-681464ec-ae7d-4964-8214-2c6bc9b50d1b button.colab-df-convert');\n",
              "      buttonEl.style.display =\n",
              "        google.colab.kernel.accessAllowed ? 'block' : 'none';\n",
              "\n",
              "      async function convertToInteractive(key) {\n",
              "        const element = document.querySelector('#df-681464ec-ae7d-4964-8214-2c6bc9b50d1b');\n",
              "        const dataTable =\n",
              "          await google.colab.kernel.invokeFunction('convertToInteractive',\n",
              "                                                    [key], {});\n",
              "        if (!dataTable) return;\n",
              "\n",
              "        const docLinkHtml = 'Like what you see? Visit the ' +\n",
              "          '<a target=\"_blank\" href=https://colab.research.google.com/notebooks/data_table.ipynb>data table notebook</a>'\n",
              "          + ' to learn more about interactive tables.';\n",
              "        element.innerHTML = '';\n",
              "        dataTable['output_type'] = 'display_data';\n",
              "        await google.colab.output.renderOutput(dataTable, element);\n",
              "        const docLink = document.createElement('div');\n",
              "        docLink.innerHTML = docLinkHtml;\n",
              "        element.appendChild(docLink);\n",
              "      }\n",
              "    </script>\n",
              "  </div>\n",
              "\n",
              "\n",
              "<div id=\"df-2ad366fe-2529-4674-bf85-ccaced93c3a7\">\n",
              "  <button class=\"colab-df-quickchart\" onclick=\"quickchart('df-2ad366fe-2529-4674-bf85-ccaced93c3a7')\"\n",
              "            title=\"Suggest charts\"\n",
              "            style=\"display:none;\">\n",
              "\n",
              "<svg xmlns=\"http://www.w3.org/2000/svg\" height=\"24px\"viewBox=\"0 0 24 24\"\n",
              "     width=\"24px\">\n",
              "    <g>\n",
              "        <path d=\"M19 3H5c-1.1 0-2 .9-2 2v14c0 1.1.9 2 2 2h14c1.1 0 2-.9 2-2V5c0-1.1-.9-2-2-2zM9 17H7v-7h2v7zm4 0h-2V7h2v10zm4 0h-2v-4h2v4z\"/>\n",
              "    </g>\n",
              "</svg>\n",
              "  </button>\n",
              "\n",
              "<style>\n",
              "  .colab-df-quickchart {\n",
              "      --bg-color: #E8F0FE;\n",
              "      --fill-color: #1967D2;\n",
              "      --hover-bg-color: #E2EBFA;\n",
              "      --hover-fill-color: #174EA6;\n",
              "      --disabled-fill-color: #AAA;\n",
              "      --disabled-bg-color: #DDD;\n",
              "  }\n",
              "\n",
              "  [theme=dark] .colab-df-quickchart {\n",
              "      --bg-color: #3B4455;\n",
              "      --fill-color: #D2E3FC;\n",
              "      --hover-bg-color: #434B5C;\n",
              "      --hover-fill-color: #FFFFFF;\n",
              "      --disabled-bg-color: #3B4455;\n",
              "      --disabled-fill-color: #666;\n",
              "  }\n",
              "\n",
              "  .colab-df-quickchart {\n",
              "    background-color: var(--bg-color);\n",
              "    border: none;\n",
              "    border-radius: 50%;\n",
              "    cursor: pointer;\n",
              "    display: none;\n",
              "    fill: var(--fill-color);\n",
              "    height: 32px;\n",
              "    padding: 0;\n",
              "    width: 32px;\n",
              "  }\n",
              "\n",
              "  .colab-df-quickchart:hover {\n",
              "    background-color: var(--hover-bg-color);\n",
              "    box-shadow: 0 1px 2px rgba(60, 64, 67, 0.3), 0 1px 3px 1px rgba(60, 64, 67, 0.15);\n",
              "    fill: var(--button-hover-fill-color);\n",
              "  }\n",
              "\n",
              "  .colab-df-quickchart-complete:disabled,\n",
              "  .colab-df-quickchart-complete:disabled:hover {\n",
              "    background-color: var(--disabled-bg-color);\n",
              "    fill: var(--disabled-fill-color);\n",
              "    box-shadow: none;\n",
              "  }\n",
              "\n",
              "  .colab-df-spinner {\n",
              "    border: 2px solid var(--fill-color);\n",
              "    border-color: transparent;\n",
              "    border-bottom-color: var(--fill-color);\n",
              "    animation:\n",
              "      spin 1s steps(1) infinite;\n",
              "  }\n",
              "\n",
              "  @keyframes spin {\n",
              "    0% {\n",
              "      border-color: transparent;\n",
              "      border-bottom-color: var(--fill-color);\n",
              "      border-left-color: var(--fill-color);\n",
              "    }\n",
              "    20% {\n",
              "      border-color: transparent;\n",
              "      border-left-color: var(--fill-color);\n",
              "      border-top-color: var(--fill-color);\n",
              "    }\n",
              "    30% {\n",
              "      border-color: transparent;\n",
              "      border-left-color: var(--fill-color);\n",
              "      border-top-color: var(--fill-color);\n",
              "      border-right-color: var(--fill-color);\n",
              "    }\n",
              "    40% {\n",
              "      border-color: transparent;\n",
              "      border-right-color: var(--fill-color);\n",
              "      border-top-color: var(--fill-color);\n",
              "    }\n",
              "    60% {\n",
              "      border-color: transparent;\n",
              "      border-right-color: var(--fill-color);\n",
              "    }\n",
              "    80% {\n",
              "      border-color: transparent;\n",
              "      border-right-color: var(--fill-color);\n",
              "      border-bottom-color: var(--fill-color);\n",
              "    }\n",
              "    90% {\n",
              "      border-color: transparent;\n",
              "      border-bottom-color: var(--fill-color);\n",
              "    }\n",
              "  }\n",
              "</style>\n",
              "\n",
              "  <script>\n",
              "    async function quickchart(key) {\n",
              "      const quickchartButtonEl =\n",
              "        document.querySelector('#' + key + ' button');\n",
              "      quickchartButtonEl.disabled = true;  // To prevent multiple clicks.\n",
              "      quickchartButtonEl.classList.add('colab-df-spinner');\n",
              "      try {\n",
              "        const charts = await google.colab.kernel.invokeFunction(\n",
              "            'suggestCharts', [key], {});\n",
              "      } catch (error) {\n",
              "        console.error('Error during call to suggestCharts:', error);\n",
              "      }\n",
              "      quickchartButtonEl.classList.remove('colab-df-spinner');\n",
              "      quickchartButtonEl.classList.add('colab-df-quickchart-complete');\n",
              "    }\n",
              "    (() => {\n",
              "      let quickchartButtonEl =\n",
              "        document.querySelector('#df-2ad366fe-2529-4674-bf85-ccaced93c3a7 button');\n",
              "      quickchartButtonEl.style.display =\n",
              "        google.colab.kernel.accessAllowed ? 'block' : 'none';\n",
              "    })();\n",
              "  </script>\n",
              "</div>\n",
              "    </div>\n",
              "  </div>\n"
            ]
          },
          "metadata": {},
          "execution_count": 52
        }
      ]
    },
    {
      "cell_type": "code",
      "source": [
        "df_60_filtro = df_residentes_regiao[df_residentes_regiao['categoria_abertura_1']=='mais 60 anos']"
      ],
      "metadata": {
        "id": "YfCHZvcDo4mX",
        "executionInfo": {
          "status": "ok",
          "timestamp": 1727813853354,
          "user_tz": 180,
          "elapsed": 19,
          "user": {
            "displayName": "",
            "userId": ""
          }
        }
      },
      "execution_count": 53,
      "outputs": []
    },
    {
      "cell_type": "code",
      "source": [
        "df_melt = pd.melt(df_60_filtro,id_vars=['pk_indicador','indicador','abertura_territorio','variavel_abertura_2','categoria_abertura_2','categoria_abertura_1'],var_name = 'mes',value_name='qtd')"
      ],
      "metadata": {
        "id": "_-CMJFcaYxNX",
        "executionInfo": {
          "status": "ok",
          "timestamp": 1727813853354,
          "user_tz": 180,
          "elapsed": 19,
          "user": {
            "displayName": "",
            "userId": ""
          }
        }
      },
      "execution_count": 54,
      "outputs": []
    },
    {
      "cell_type": "markdown",
      "source": [
        "##MAIO"
      ],
      "metadata": {
        "id": "CINvXStGYmwP"
      }
    },
    {
      "cell_type": "code",
      "source": [
        "df_maio = df_melt[df_melt['mes']=='maio']"
      ],
      "metadata": {
        "id": "HEdWlUNMWs55",
        "executionInfo": {
          "status": "ok",
          "timestamp": 1727813853354,
          "user_tz": 180,
          "elapsed": 18,
          "user": {
            "displayName": "",
            "userId": ""
          }
        }
      },
      "execution_count": 55,
      "outputs": []
    },
    {
      "cell_type": "markdown",
      "source": [
        "###SUL"
      ],
      "metadata": {
        "id": "6RA6cNaCZYsa"
      }
    },
    {
      "cell_type": "code",
      "source": [
        "df_maio_sul = df_maio[df_maio['abertura_territorio']=='Sul']\n",
        "df_maio_sul['total']=df_maio_sul['qtd'].sum()\n",
        "df_maio_sul['%'] = df_maio_sul['qtd']/df_maio_sul['total'] *100\n",
        "df_maio_sul['%'] = df_maio_sul['%'].round(2)"
      ],
      "metadata": {
        "id": "s5gwvcaAZTKZ",
        "executionInfo": {
          "status": "ok",
          "timestamp": 1727813853355,
          "user_tz": 180,
          "elapsed": 19,
          "user": {
            "displayName": "",
            "userId": ""
          }
        },
        "colab": {
          "base_uri": "https://localhost:8080/"
        },
        "outputId": "8fc86101-c94d-48ec-cb19-c4d2a0610111"
      },
      "execution_count": 56,
      "outputs": [
        {
          "output_type": "stream",
          "name": "stderr",
          "text": [
            "<ipython-input-56-d19a3907435e>:2: SettingWithCopyWarning: \n",
            "A value is trying to be set on a copy of a slice from a DataFrame.\n",
            "Try using .loc[row_indexer,col_indexer] = value instead\n",
            "\n",
            "See the caveats in the documentation: https://pandas.pydata.org/pandas-docs/stable/user_guide/indexing.html#returning-a-view-versus-a-copy\n",
            "  df_maio_sul['total']=df_maio_sul['qtd'].sum()\n",
            "<ipython-input-56-d19a3907435e>:3: SettingWithCopyWarning: \n",
            "A value is trying to be set on a copy of a slice from a DataFrame.\n",
            "Try using .loc[row_indexer,col_indexer] = value instead\n",
            "\n",
            "See the caveats in the documentation: https://pandas.pydata.org/pandas-docs/stable/user_guide/indexing.html#returning-a-view-versus-a-copy\n",
            "  df_maio_sul['%'] = df_maio_sul['qtd']/df_maio_sul['total'] *100\n",
            "<ipython-input-56-d19a3907435e>:4: SettingWithCopyWarning: \n",
            "A value is trying to be set on a copy of a slice from a DataFrame.\n",
            "Try using .loc[row_indexer,col_indexer] = value instead\n",
            "\n",
            "See the caveats in the documentation: https://pandas.pydata.org/pandas-docs/stable/user_guide/indexing.html#returning-a-view-versus-a-copy\n",
            "  df_maio_sul['%'] = df_maio_sul['%'].round(2)\n"
          ]
        }
      ]
    },
    {
      "cell_type": "markdown",
      "source": [
        "###Sudeste"
      ],
      "metadata": {
        "id": "oceZvxrNbLEr"
      }
    },
    {
      "cell_type": "code",
      "source": [
        "df_maio_sudeste = df_maio[df_maio['abertura_territorio']=='Sudeste']\n",
        "df_maio_sudeste['total']=df_maio_sudeste['qtd'].sum()\n",
        "df_maio_sudeste['%'] = df_maio_sudeste['qtd']/df_maio_sudeste['total'] *100\n",
        "df_maio_sudeste['%'] = df_maio_sudeste['%'].round(2)"
      ],
      "metadata": {
        "colab": {
          "base_uri": "https://localhost:8080/"
        },
        "id": "PEyXFSH2bOEt",
        "executionInfo": {
          "status": "ok",
          "timestamp": 1727813853355,
          "user_tz": 180,
          "elapsed": 17,
          "user": {
            "displayName": "",
            "userId": ""
          }
        },
        "outputId": "b5dc3744-ea2d-4647-be1a-e796ee1fe6d8"
      },
      "execution_count": 57,
      "outputs": [
        {
          "output_type": "stream",
          "name": "stderr",
          "text": [
            "<ipython-input-57-6297db76e41d>:2: SettingWithCopyWarning: \n",
            "A value is trying to be set on a copy of a slice from a DataFrame.\n",
            "Try using .loc[row_indexer,col_indexer] = value instead\n",
            "\n",
            "See the caveats in the documentation: https://pandas.pydata.org/pandas-docs/stable/user_guide/indexing.html#returning-a-view-versus-a-copy\n",
            "  df_maio_sudeste['total']=df_maio_sudeste['qtd'].sum()\n",
            "<ipython-input-57-6297db76e41d>:3: SettingWithCopyWarning: \n",
            "A value is trying to be set on a copy of a slice from a DataFrame.\n",
            "Try using .loc[row_indexer,col_indexer] = value instead\n",
            "\n",
            "See the caveats in the documentation: https://pandas.pydata.org/pandas-docs/stable/user_guide/indexing.html#returning-a-view-versus-a-copy\n",
            "  df_maio_sudeste['%'] = df_maio_sudeste['qtd']/df_maio_sudeste['total'] *100\n",
            "<ipython-input-57-6297db76e41d>:4: SettingWithCopyWarning: \n",
            "A value is trying to be set on a copy of a slice from a DataFrame.\n",
            "Try using .loc[row_indexer,col_indexer] = value instead\n",
            "\n",
            "See the caveats in the documentation: https://pandas.pydata.org/pandas-docs/stable/user_guide/indexing.html#returning-a-view-versus-a-copy\n",
            "  df_maio_sudeste['%'] = df_maio_sudeste['%'].round(2)\n"
          ]
        }
      ]
    },
    {
      "cell_type": "markdown",
      "source": [
        "###Nordeste"
      ],
      "metadata": {
        "id": "tbGYCGVwbdXb"
      }
    },
    {
      "cell_type": "code",
      "source": [
        "df_maio_nordeste = df_maio[df_maio['abertura_territorio']=='Nordeste']\n",
        "df_maio_nordeste['total']=df_maio_nordeste['qtd'].sum()\n",
        "df_maio_nordeste['%'] = df_maio_nordeste['qtd']/df_maio_nordeste['total'] *100\n",
        "df_maio_nordeste['%'] = df_maio_nordeste['%'].round(2)"
      ],
      "metadata": {
        "colab": {
          "base_uri": "https://localhost:8080/"
        },
        "id": "_mMBDuUHbbVE",
        "executionInfo": {
          "status": "ok",
          "timestamp": 1727813853355,
          "user_tz": 180,
          "elapsed": 15,
          "user": {
            "displayName": "",
            "userId": ""
          }
        },
        "outputId": "2146c920-c394-478a-8837-2dc7961bea16"
      },
      "execution_count": 58,
      "outputs": [
        {
          "output_type": "stream",
          "name": "stderr",
          "text": [
            "<ipython-input-58-0d23ef15b99a>:2: SettingWithCopyWarning: \n",
            "A value is trying to be set on a copy of a slice from a DataFrame.\n",
            "Try using .loc[row_indexer,col_indexer] = value instead\n",
            "\n",
            "See the caveats in the documentation: https://pandas.pydata.org/pandas-docs/stable/user_guide/indexing.html#returning-a-view-versus-a-copy\n",
            "  df_maio_nordeste['total']=df_maio_nordeste['qtd'].sum()\n",
            "<ipython-input-58-0d23ef15b99a>:3: SettingWithCopyWarning: \n",
            "A value is trying to be set on a copy of a slice from a DataFrame.\n",
            "Try using .loc[row_indexer,col_indexer] = value instead\n",
            "\n",
            "See the caveats in the documentation: https://pandas.pydata.org/pandas-docs/stable/user_guide/indexing.html#returning-a-view-versus-a-copy\n",
            "  df_maio_nordeste['%'] = df_maio_nordeste['qtd']/df_maio_nordeste['total'] *100\n",
            "<ipython-input-58-0d23ef15b99a>:4: SettingWithCopyWarning: \n",
            "A value is trying to be set on a copy of a slice from a DataFrame.\n",
            "Try using .loc[row_indexer,col_indexer] = value instead\n",
            "\n",
            "See the caveats in the documentation: https://pandas.pydata.org/pandas-docs/stable/user_guide/indexing.html#returning-a-view-versus-a-copy\n",
            "  df_maio_nordeste['%'] = df_maio_nordeste['%'].round(2)\n"
          ]
        }
      ]
    },
    {
      "cell_type": "markdown",
      "source": [
        "###Centro"
      ],
      "metadata": {
        "id": "eNvZsX4hbr48"
      }
    },
    {
      "cell_type": "code",
      "source": [
        "df_maio_centro = df_maio[df_maio['abertura_territorio']=='CentroOeste']\n",
        "df_maio_centro['total']=df_maio_centro['qtd'].sum()\n",
        "df_maio_centro['%'] = df_maio_centro['qtd']/df_maio_centro['total'] *100\n",
        "df_maio_centro['%'] = df_maio_centro['%'].round(2)"
      ],
      "metadata": {
        "colab": {
          "base_uri": "https://localhost:8080/"
        },
        "id": "qR5gHs6jbqq1",
        "executionInfo": {
          "status": "ok",
          "timestamp": 1727813853355,
          "user_tz": 180,
          "elapsed": 12,
          "user": {
            "displayName": "",
            "userId": ""
          }
        },
        "outputId": "50852579-04c7-4028-fffd-e82a3474ea4c"
      },
      "execution_count": 59,
      "outputs": [
        {
          "output_type": "stream",
          "name": "stderr",
          "text": [
            "<ipython-input-59-f2bc2666e57a>:2: SettingWithCopyWarning: \n",
            "A value is trying to be set on a copy of a slice from a DataFrame.\n",
            "Try using .loc[row_indexer,col_indexer] = value instead\n",
            "\n",
            "See the caveats in the documentation: https://pandas.pydata.org/pandas-docs/stable/user_guide/indexing.html#returning-a-view-versus-a-copy\n",
            "  df_maio_centro['total']=df_maio_centro['qtd'].sum()\n",
            "<ipython-input-59-f2bc2666e57a>:3: SettingWithCopyWarning: \n",
            "A value is trying to be set on a copy of a slice from a DataFrame.\n",
            "Try using .loc[row_indexer,col_indexer] = value instead\n",
            "\n",
            "See the caveats in the documentation: https://pandas.pydata.org/pandas-docs/stable/user_guide/indexing.html#returning-a-view-versus-a-copy\n",
            "  df_maio_centro['%'] = df_maio_centro['qtd']/df_maio_centro['total'] *100\n",
            "<ipython-input-59-f2bc2666e57a>:4: SettingWithCopyWarning: \n",
            "A value is trying to be set on a copy of a slice from a DataFrame.\n",
            "Try using .loc[row_indexer,col_indexer] = value instead\n",
            "\n",
            "See the caveats in the documentation: https://pandas.pydata.org/pandas-docs/stable/user_guide/indexing.html#returning-a-view-versus-a-copy\n",
            "  df_maio_centro['%'] = df_maio_centro['%'].round(2)\n"
          ]
        }
      ]
    },
    {
      "cell_type": "markdown",
      "source": [
        "###Norte"
      ],
      "metadata": {
        "id": "psb6slGob7mQ"
      }
    },
    {
      "cell_type": "code",
      "source": [
        "df_maio_norte = df_maio[df_maio['abertura_territorio']=='Norte']\n",
        "df_maio_norte['total']=df_maio_norte['qtd'].sum()\n",
        "df_maio_norte['%'] = df_maio_norte['qtd']/df_maio_norte['total'] *100\n",
        "df_maio_norte['%'] = df_maio_norte['%'].round(2)"
      ],
      "metadata": {
        "colab": {
          "base_uri": "https://localhost:8080/"
        },
        "id": "tPrkJteUb5S2",
        "executionInfo": {
          "status": "ok",
          "timestamp": 1727813853355,
          "user_tz": 180,
          "elapsed": 10,
          "user": {
            "displayName": "",
            "userId": ""
          }
        },
        "outputId": "658b8ed7-0e86-4f96-80bb-cb5b8e1a7667"
      },
      "execution_count": 60,
      "outputs": [
        {
          "output_type": "stream",
          "name": "stderr",
          "text": [
            "<ipython-input-60-3244f8f02a6f>:2: SettingWithCopyWarning: \n",
            "A value is trying to be set on a copy of a slice from a DataFrame.\n",
            "Try using .loc[row_indexer,col_indexer] = value instead\n",
            "\n",
            "See the caveats in the documentation: https://pandas.pydata.org/pandas-docs/stable/user_guide/indexing.html#returning-a-view-versus-a-copy\n",
            "  df_maio_norte['total']=df_maio_norte['qtd'].sum()\n",
            "<ipython-input-60-3244f8f02a6f>:3: SettingWithCopyWarning: \n",
            "A value is trying to be set on a copy of a slice from a DataFrame.\n",
            "Try using .loc[row_indexer,col_indexer] = value instead\n",
            "\n",
            "See the caveats in the documentation: https://pandas.pydata.org/pandas-docs/stable/user_guide/indexing.html#returning-a-view-versus-a-copy\n",
            "  df_maio_norte['%'] = df_maio_norte['qtd']/df_maio_norte['total'] *100\n",
            "<ipython-input-60-3244f8f02a6f>:4: SettingWithCopyWarning: \n",
            "A value is trying to be set on a copy of a slice from a DataFrame.\n",
            "Try using .loc[row_indexer,col_indexer] = value instead\n",
            "\n",
            "See the caveats in the documentation: https://pandas.pydata.org/pandas-docs/stable/user_guide/indexing.html#returning-a-view-versus-a-copy\n",
            "  df_maio_norte['%'] = df_maio_norte['%'].round(2)\n"
          ]
        }
      ]
    },
    {
      "cell_type": "markdown",
      "source": [
        "###maio consolidado"
      ],
      "metadata": {
        "id": "mh-osTnfdFie"
      }
    },
    {
      "cell_type": "code",
      "source": [
        "df_maio_consolidado = pd.concat([df_maio_sul,df_maio_sudeste,df_maio_nordeste,df_maio_centro,df_maio_norte])\n",
        "df_maio_consolidado_plano = df_maio_consolidado[df_maio_consolidado['categoria_abertura_2']=='Tem plano de saúde médico']\n",
        "\n",
        "df_maio_consolidado_plano = df_maio_consolidado_plano.sort_values(by='%')\n",
        "ax=df_maio_consolidado_plano.plot(kind='line',marker = 'o',figsize=(8,8),y='%',x='abertura_territorio',)\n",
        "for i, v in enumerate(df_maio_consolidado_plano['%']):\n",
        "    ax.text(i, v + 2, str(v), ha='center', fontsize=12)\n",
        "\n",
        "plt.title('Evolução da % dos que foram ao hospital')\n",
        "plt.legend(loc='best')\n",
        "plt.grid(True)"
      ],
      "metadata": {
        "id": "qbQV8bAQcG5r",
        "executionInfo": {
          "status": "ok",
          "timestamp": 1727813853825,
          "user_tz": 180,
          "elapsed": 478,
          "user": {
            "displayName": "",
            "userId": ""
          }
        },
        "colab": {
          "base_uri": "https://localhost:8080/",
          "height": 728
        },
        "outputId": "e7ae4ad7-ad77-441a-b9db-3ab6ce774746"
      },
      "execution_count": 61,
      "outputs": [
        {
          "output_type": "display_data",
          "data": {
            "text/plain": [
              "<Figure size 800x800 with 1 Axes>"
            ],
            "image/png": "[encoded data removed]"
          },
          "metadata": {}
        }
      ]
    },
    {
      "cell_type": "code",
      "source": [],
      "metadata": {
        "id": "8SCLM7VTc43t",
        "executionInfo": {
          "status": "ok",
          "timestamp": 1727813853825,
          "user_tz": 180,
          "elapsed": 9,
          "user": {
            "displayName": "",
            "userId": ""
          }
        }
      },
      "execution_count": 61,
      "outputs": []
    },
    {
      "cell_type": "markdown",
      "source": [
        "##Junho"
      ],
      "metadata": {
        "id": "AL_bjAgIdhZ7"
      }
    },
    {
      "cell_type": "code",
      "source": [
        "df_junho = df_melt[df_melt['mes']=='junho']"
      ],
      "metadata": {
        "executionInfo": {
          "status": "ok",
          "timestamp": 1727813854281,
          "user_tz": 180,
          "elapsed": 18,
          "user": {
            "displayName": "",
            "userId": ""
          }
        },
        "id": "TS1MFwJ1dhZ8"
      },
      "execution_count": 62,
      "outputs": []
    },
    {
      "cell_type": "markdown",
      "source": [
        "###SUL"
      ],
      "metadata": {
        "id": "bxfx_zZrdhZ8"
      }
    },
    {
      "cell_type": "code",
      "source": [
        "df_junho_sul = df_junho[df_junho['abertura_territorio']=='Sul']\n",
        "df_junho_sul['total']=df_junho_sul['qtd'].sum()\n",
        "df_junho_sul['%'] = df_junho_sul['qtd']/df_junho_sul['total'] *100\n",
        "df_junho_sul['%'] = df_junho_sul['%'].round(2)"
      ],
      "metadata": {
        "executionInfo": {
          "status": "ok",
          "timestamp": 1727813854282,
          "user_tz": 180,
          "elapsed": 18,
          "user": {
            "displayName": "",
            "userId": ""
          }
        },
        "colab": {
          "base_uri": "https://localhost:8080/"
        },
        "id": "ejkJj2MfdhZ9",
        "outputId": "aef8bc80-36f0-4dbe-86cd-839761ce1456"
      },
      "execution_count": 63,
      "outputs": [
        {
          "output_type": "stream",
          "name": "stderr",
          "text": [
            "<ipython-input-63-410ff529310d>:2: SettingWithCopyWarning: \n",
            "A value is trying to be set on a copy of a slice from a DataFrame.\n",
            "Try using .loc[row_indexer,col_indexer] = value instead\n",
            "\n",
            "See the caveats in the documentation: https://pandas.pydata.org/pandas-docs/stable/user_guide/indexing.html#returning-a-view-versus-a-copy\n",
            "  df_junho_sul['total']=df_junho_sul['qtd'].sum()\n",
            "<ipython-input-63-410ff529310d>:3: SettingWithCopyWarning: \n",
            "A value is trying to be set on a copy of a slice from a DataFrame.\n",
            "Try using .loc[row_indexer,col_indexer] = value instead\n",
            "\n",
            "See the caveats in the documentation: https://pandas.pydata.org/pandas-docs/stable/user_guide/indexing.html#returning-a-view-versus-a-copy\n",
            "  df_junho_sul['%'] = df_junho_sul['qtd']/df_junho_sul['total'] *100\n",
            "<ipython-input-63-410ff529310d>:4: SettingWithCopyWarning: \n",
            "A value is trying to be set on a copy of a slice from a DataFrame.\n",
            "Try using .loc[row_indexer,col_indexer] = value instead\n",
            "\n",
            "See the caveats in the documentation: https://pandas.pydata.org/pandas-docs/stable/user_guide/indexing.html#returning-a-view-versus-a-copy\n",
            "  df_junho_sul['%'] = df_junho_sul['%'].round(2)\n"
          ]
        }
      ]
    },
    {
      "cell_type": "markdown",
      "source": [
        "###Sudeste"
      ],
      "metadata": {
        "id": "b7NZkUn4dhZ-"
      }
    },
    {
      "cell_type": "code",
      "source": [
        "df_junho_sudeste = df_junho[df_junho['abertura_territorio']=='Sudeste']\n",
        "df_junho_sudeste['total']=df_junho_sudeste['qtd'].sum()\n",
        "df_junho_sudeste['%'] = df_junho_sudeste['qtd']/df_junho_sudeste['total'] *100\n",
        "df_junho_sudeste['%'] = df_junho_sudeste['%'].round(2)"
      ],
      "metadata": {
        "colab": {
          "base_uri": "https://localhost:8080/"
        },
        "executionInfo": {
          "status": "ok",
          "timestamp": 1727813854282,
          "user_tz": 180,
          "elapsed": 16,
          "user": {
            "displayName": "",
            "userId": ""
          }
        },
        "outputId": "e11572a6-e423-45e6-95b2-a3bfa05ef1d6",
        "id": "jMmbgJUVdhZ-"
      },
      "execution_count": 64,
      "outputs": [
        {
          "output_type": "stream",
          "name": "stderr",
          "text": [
            "<ipython-input-64-b5c4ca920d87>:2: SettingWithCopyWarning: \n",
            "A value is trying to be set on a copy of a slice from a DataFrame.\n",
            "Try using .loc[row_indexer,col_indexer] = value instead\n",
            "\n",
            "See the caveats in the documentation: https://pandas.pydata.org/pandas-docs/stable/user_guide/indexing.html#returning-a-view-versus-a-copy\n",
            "  df_junho_sudeste['total']=df_junho_sudeste['qtd'].sum()\n",
            "<ipython-input-64-b5c4ca920d87>:3: SettingWithCopyWarning: \n",
            "A value is trying to be set on a copy of a slice from a DataFrame.\n",
            "Try using .loc[row_indexer,col_indexer] = value instead\n",
            "\n",
            "See the caveats in the documentation: https://pandas.pydata.org/pandas-docs/stable/user_guide/indexing.html#returning-a-view-versus-a-copy\n",
            "  df_junho_sudeste['%'] = df_junho_sudeste['qtd']/df_junho_sudeste['total'] *100\n",
            "<ipython-input-64-b5c4ca920d87>:4: SettingWithCopyWarning: \n",
            "A value is trying to be set on a copy of a slice from a DataFrame.\n",
            "Try using .loc[row_indexer,col_indexer] = value instead\n",
            "\n",
            "See the caveats in the documentation: https://pandas.pydata.org/pandas-docs/stable/user_guide/indexing.html#returning-a-view-versus-a-copy\n",
            "  df_junho_sudeste['%'] = df_junho_sudeste['%'].round(2)\n"
          ]
        }
      ]
    },
    {
      "cell_type": "markdown",
      "source": [
        "###Nordeste"
      ],
      "metadata": {
        "id": "wxcwMqiUdhaA"
      }
    },
    {
      "cell_type": "code",
      "source": [
        "df_junho_nordeste = df_junho[df_junho['abertura_territorio']=='Nordeste']\n",
        "df_junho_nordeste['total']=df_junho_nordeste['qtd'].sum()\n",
        "df_junho_nordeste['%'] = df_junho_nordeste['qtd']/df_junho_nordeste['total'] *100\n",
        "df_junho_nordeste['%'] = df_junho_nordeste['%'].round(2)"
      ],
      "metadata": {
        "colab": {
          "base_uri": "https://localhost:8080/"
        },
        "executionInfo": {
          "status": "ok",
          "timestamp": 1727813854282,
          "user_tz": 180,
          "elapsed": 14,
          "user": {
            "displayName": "",
            "userId": ""
          }
        },
        "outputId": "15643829-3107-43ff-8fe5-7ff64b9c0a5c",
        "id": "Ka7UWDWKdhaA"
      },
      "execution_count": 65,
      "outputs": [
        {
          "output_type": "stream",
          "name": "stderr",
          "text": [
            "<ipython-input-65-c6c8b5942e17>:2: SettingWithCopyWarning: \n",
            "A value is trying to be set on a copy of a slice from a DataFrame.\n",
            "Try using .loc[row_indexer,col_indexer] = value instead\n",
            "\n",
            "See the caveats in the documentation: https://pandas.pydata.org/pandas-docs/stable/user_guide/indexing.html#returning-a-view-versus-a-copy\n",
            "  df_junho_nordeste['total']=df_junho_nordeste['qtd'].sum()\n",
            "<ipython-input-65-c6c8b5942e17>:3: SettingWithCopyWarning: \n",
            "A value is trying to be set on a copy of a slice from a DataFrame.\n",
            "Try using .loc[row_indexer,col_indexer] = value instead\n",
            "\n",
            "See the caveats in the documentation: https://pandas.pydata.org/pandas-docs/stable/user_guide/indexing.html#returning-a-view-versus-a-copy\n",
            "  df_junho_nordeste['%'] = df_junho_nordeste['qtd']/df_junho_nordeste['total'] *100\n",
            "<ipython-input-65-c6c8b5942e17>:4: SettingWithCopyWarning: \n",
            "A value is trying to be set on a copy of a slice from a DataFrame.\n",
            "Try using .loc[row_indexer,col_indexer] = value instead\n",
            "\n",
            "See the caveats in the documentation: https://pandas.pydata.org/pandas-docs/stable/user_guide/indexing.html#returning-a-view-versus-a-copy\n",
            "  df_junho_nordeste['%'] = df_junho_nordeste['%'].round(2)\n"
          ]
        }
      ]
    },
    {
      "cell_type": "markdown",
      "source": [
        "###Centro"
      ],
      "metadata": {
        "id": "tvDyqVkXdhaB"
      }
    },
    {
      "cell_type": "code",
      "source": [
        "df_junho_centro = df_junho[df_junho['abertura_territorio']=='CentroOeste']\n",
        "df_junho_centro['total']=df_junho_centro['qtd'].sum()\n",
        "df_junho_centro['%'] = df_junho_centro['qtd']/df_junho_centro['total'] *100\n",
        "df_junho_centro['%'] = df_junho_centro['%'].round(2)"
      ],
      "metadata": {
        "colab": {
          "base_uri": "https://localhost:8080/"
        },
        "executionInfo": {
          "status": "ok",
          "timestamp": 1727813854282,
          "user_tz": 180,
          "elapsed": 12,
          "user": {
            "displayName": "",
            "userId": ""
          }
        },
        "outputId": "2db8c264-4197-4ede-94ca-aef29e365f70",
        "id": "TKLauco_dhaB"
      },
      "execution_count": 66,
      "outputs": [
        {
          "output_type": "stream",
          "name": "stderr",
          "text": [
            "<ipython-input-66-3fdf271e15eb>:2: SettingWithCopyWarning: \n",
            "A value is trying to be set on a copy of a slice from a DataFrame.\n",
            "Try using .loc[row_indexer,col_indexer] = value instead\n",
            "\n",
            "See the caveats in the documentation: https://pandas.pydata.org/pandas-docs/stable/user_guide/indexing.html#returning-a-view-versus-a-copy\n",
            "  df_junho_centro['total']=df_junho_centro['qtd'].sum()\n",
            "<ipython-input-66-3fdf271e15eb>:3: SettingWithCopyWarning: \n",
            "A value is trying to be set on a copy of a slice from a DataFrame.\n",
            "Try using .loc[row_indexer,col_indexer] = value instead\n",
            "\n",
            "See the caveats in the documentation: https://pandas.pydata.org/pandas-docs/stable/user_guide/indexing.html#returning-a-view-versus-a-copy\n",
            "  df_junho_centro['%'] = df_junho_centro['qtd']/df_junho_centro['total'] *100\n",
            "<ipython-input-66-3fdf271e15eb>:4: SettingWithCopyWarning: \n",
            "A value is trying to be set on a copy of a slice from a DataFrame.\n",
            "Try using .loc[row_indexer,col_indexer] = value instead\n",
            "\n",
            "See the caveats in the documentation: https://pandas.pydata.org/pandas-docs/stable/user_guide/indexing.html#returning-a-view-versus-a-copy\n",
            "  df_junho_centro['%'] = df_junho_centro['%'].round(2)\n"
          ]
        }
      ]
    },
    {
      "cell_type": "markdown",
      "source": [
        "###Norte"
      ],
      "metadata": {
        "id": "EwHFEFQIdhaF"
      }
    },
    {
      "cell_type": "code",
      "source": [
        "df_junho_norte = df_junho[df_junho['abertura_territorio']=='Norte']\n",
        "df_junho_norte['total']=df_junho_norte['qtd'].sum()\n",
        "df_junho_norte['%'] = df_junho_norte['qtd']/df_junho_norte['total'] *100\n",
        "df_junho_norte['%'] = df_junho_norte['%'].round(2)"
      ],
      "metadata": {
        "colab": {
          "base_uri": "https://localhost:8080/"
        },
        "executionInfo": {
          "status": "ok",
          "timestamp": 1727813854282,
          "user_tz": 180,
          "elapsed": 10,
          "user": {
            "displayName": "",
            "userId": ""
          }
        },
        "outputId": "c1866763-7ae7-49ba-bb29-cd9a183571d9",
        "id": "4Xp6LosGdhaG"
      },
      "execution_count": 67,
      "outputs": [
        {
          "output_type": "stream",
          "name": "stderr",
          "text": [
            "<ipython-input-67-0ee4ef010441>:2: SettingWithCopyWarning: \n",
            "A value is trying to be set on a copy of a slice from a DataFrame.\n",
            "Try using .loc[row_indexer,col_indexer] = value instead\n",
            "\n",
            "See the caveats in the documentation: https://pandas.pydata.org/pandas-docs/stable/user_guide/indexing.html#returning-a-view-versus-a-copy\n",
            "  df_junho_norte['total']=df_junho_norte['qtd'].sum()\n",
            "<ipython-input-67-0ee4ef010441>:3: SettingWithCopyWarning: \n",
            "A value is trying to be set on a copy of a slice from a DataFrame.\n",
            "Try using .loc[row_indexer,col_indexer] = value instead\n",
            "\n",
            "See the caveats in the documentation: https://pandas.pydata.org/pandas-docs/stable/user_guide/indexing.html#returning-a-view-versus-a-copy\n",
            "  df_junho_norte['%'] = df_junho_norte['qtd']/df_junho_norte['total'] *100\n",
            "<ipython-input-67-0ee4ef010441>:4: SettingWithCopyWarning: \n",
            "A value is trying to be set on a copy of a slice from a DataFrame.\n",
            "Try using .loc[row_indexer,col_indexer] = value instead\n",
            "\n",
            "See the caveats in the documentation: https://pandas.pydata.org/pandas-docs/stable/user_guide/indexing.html#returning-a-view-versus-a-copy\n",
            "  df_junho_norte['%'] = df_junho_norte['%'].round(2)\n"
          ]
        }
      ]
    },
    {
      "cell_type": "markdown",
      "source": [
        "###junho consolidado"
      ],
      "metadata": {
        "id": "T3MUVHhJdhaG"
      }
    },
    {
      "cell_type": "code",
      "source": [
        "df_junho_consolidado = pd.concat([df_junho_sul,df_junho_sudeste,df_junho_nordeste,df_junho_centro,df_junho_norte])\n",
        "df_junho_consolidado_plano = df_junho_consolidado[df_junho_consolidado['categoria_abertura_2']=='Tem plano de saúde médico']\n",
        "\n",
        "df_junho_consolidado_plano = df_junho_consolidado_plano.sort_values(by='%')\n",
        "ax=df_junho_consolidado_plano.plot(kind='line',marker = 'o',figsize=(8,8),y='%',x='abertura_territorio',)\n",
        "for i, v in enumerate(df_junho_consolidado_plano['%']):\n",
        "    ax.text(i, v + 2, str(v), ha='center', fontsize=12)\n",
        "plt.title('Evolução da % dos que foram ao hospital')\n",
        "plt.legend(loc='best')\n",
        "plt.grid(True)"
      ],
      "metadata": {
        "executionInfo": {
          "status": "ok",
          "timestamp": 1727813854282,
          "user_tz": 180,
          "elapsed": 8,
          "user": {
            "displayName": "",
            "userId": ""
          }
        },
        "colab": {
          "base_uri": "https://localhost:8080/",
          "height": 730
        },
        "id": "cW2UPTwBdhaG",
        "outputId": "b29e60aa-8778-4f4d-c7cc-c59735f1f3fc"
      },
      "execution_count": 68,
      "outputs": [
        {
          "output_type": "display_data",
          "data": {
            "text/plain": [
              "<Figure size 800x800 with 1 Axes>"
            ],
            "image/png": "[encoded data removed]"
          },
          "metadata": {}
        }
      ]
    },
    {
      "cell_type": "code",
      "source": [],
      "metadata": {
        "id": "DdecAZaxdhaG",
        "executionInfo": {
          "status": "ok",
          "timestamp": 1727813854282,
          "user_tz": 180,
          "elapsed": 6,
          "user": {
            "displayName": "",
            "userId": ""
          }
        }
      },
      "execution_count": 68,
      "outputs": []
    },
    {
      "cell_type": "markdown",
      "source": [
        "##Julho"
      ],
      "metadata": {
        "id": "BbvcwX9dfMRq"
      }
    },
    {
      "cell_type": "code",
      "source": [
        "df_julho = df_melt[df_melt['mes']=='julho']"
      ],
      "metadata": {
        "executionInfo": {
          "status": "ok",
          "timestamp": 1727813854764,
          "user_tz": 180,
          "elapsed": 488,
          "user": {
            "displayName": "",
            "userId": ""
          }
        },
        "id": "krgN-F0RfMRr"
      },
      "execution_count": 69,
      "outputs": []
    },
    {
      "cell_type": "markdown",
      "source": [
        "###SUL"
      ],
      "metadata": {
        "id": "VKWHbriIfMRr"
      }
    },
    {
      "cell_type": "code",
      "source": [
        "df_julho_sul = df_julho[df_julho['abertura_territorio']=='Sul']\n",
        "df_julho_sul['total']=df_julho_sul['qtd'].sum()\n",
        "df_julho_sul['%'] = df_julho_sul['qtd']/df_julho_sul['total'] *100\n",
        "df_julho_sul['%'] = df_julho_sul['%'].round(2)"
      ],
      "metadata": {
        "executionInfo": {
          "status": "ok",
          "timestamp": 1727813854765,
          "user_tz": 180,
          "elapsed": 17,
          "user": {
            "displayName": "",
            "userId": ""
          }
        },
        "colab": {
          "base_uri": "https://localhost:8080/"
        },
        "id": "UrQv3Pc5fMRr",
        "outputId": "be3e0aa1-bd73-4a5a-f23d-a6a588e19314"
      },
      "execution_count": 70,
      "outputs": [
        {
          "output_type": "stream",
          "name": "stderr",
          "text": [
            "<ipython-input-70-9b7a636d88c5>:2: SettingWithCopyWarning: \n",
            "A value is trying to be set on a copy of a slice from a DataFrame.\n",
            "Try using .loc[row_indexer,col_indexer] = value instead\n",
            "\n",
            "See the caveats in the documentation: https://pandas.pydata.org/pandas-docs/stable/user_guide/indexing.html#returning-a-view-versus-a-copy\n",
            "  df_julho_sul['total']=df_julho_sul['qtd'].sum()\n",
            "<ipython-input-70-9b7a636d88c5>:3: SettingWithCopyWarning: \n",
            "A value is trying to be set on a copy of a slice from a DataFrame.\n",
            "Try using .loc[row_indexer,col_indexer] = value instead\n",
            "\n",
            "See the caveats in the documentation: https://pandas.pydata.org/pandas-docs/stable/user_guide/indexing.html#returning-a-view-versus-a-copy\n",
            "  df_julho_sul['%'] = df_julho_sul['qtd']/df_julho_sul['total'] *100\n",
            "<ipython-input-70-9b7a636d88c5>:4: SettingWithCopyWarning: \n",
            "A value is trying to be set on a copy of a slice from a DataFrame.\n",
            "Try using .loc[row_indexer,col_indexer] = value instead\n",
            "\n",
            "See the caveats in the documentation: https://pandas.pydata.org/pandas-docs/stable/user_guide/indexing.html#returning-a-view-versus-a-copy\n",
            "  df_julho_sul['%'] = df_julho_sul['%'].round(2)\n"
          ]
        }
      ]
    },
    {
      "cell_type": "markdown",
      "source": [
        "###Sudeste"
      ],
      "metadata": {
        "id": "Llp7iIcsfMRr"
      }
    },
    {
      "cell_type": "code",
      "source": [
        "df_julho_sudeste = df_julho[df_julho['abertura_territorio']=='Sudeste']\n",
        "df_julho_sudeste['total']=df_julho_sudeste['qtd'].sum()\n",
        "df_julho_sudeste['%'] = df_julho_sudeste['qtd']/df_julho_sudeste['total'] *100\n",
        "df_julho_sudeste['%'] = df_julho_sudeste['%'].round(2)"
      ],
      "metadata": {
        "colab": {
          "base_uri": "https://localhost:8080/"
        },
        "executionInfo": {
          "status": "ok",
          "timestamp": 1727813854765,
          "user_tz": 180,
          "elapsed": 15,
          "user": {
            "displayName": "",
            "userId": ""
          }
        },
        "outputId": "1aedd2bb-b567-417c-f548-e6af7f0cf7da",
        "id": "WluDQFF9fMRr"
      },
      "execution_count": 71,
      "outputs": [
        {
          "output_type": "stream",
          "name": "stderr",
          "text": [
            "<ipython-input-71-1df17beb4112>:2: SettingWithCopyWarning: \n",
            "A value is trying to be set on a copy of a slice from a DataFrame.\n",
            "Try using .loc[row_indexer,col_indexer] = value instead\n",
            "\n",
            "See the caveats in the documentation: https://pandas.pydata.org/pandas-docs/stable/user_guide/indexing.html#returning-a-view-versus-a-copy\n",
            "  df_julho_sudeste['total']=df_julho_sudeste['qtd'].sum()\n",
            "<ipython-input-71-1df17beb4112>:3: SettingWithCopyWarning: \n",
            "A value is trying to be set on a copy of a slice from a DataFrame.\n",
            "Try using .loc[row_indexer,col_indexer] = value instead\n",
            "\n",
            "See the caveats in the documentation: https://pandas.pydata.org/pandas-docs/stable/user_guide/indexing.html#returning-a-view-versus-a-copy\n",
            "  df_julho_sudeste['%'] = df_julho_sudeste['qtd']/df_julho_sudeste['total'] *100\n",
            "<ipython-input-71-1df17beb4112>:4: SettingWithCopyWarning: \n",
            "A value is trying to be set on a copy of a slice from a DataFrame.\n",
            "Try using .loc[row_indexer,col_indexer] = value instead\n",
            "\n",
            "See the caveats in the documentation: https://pandas.pydata.org/pandas-docs/stable/user_guide/indexing.html#returning-a-view-versus-a-copy\n",
            "  df_julho_sudeste['%'] = df_julho_sudeste['%'].round(2)\n"
          ]
        }
      ]
    },
    {
      "cell_type": "markdown",
      "source": [
        "###Nordeste"
      ],
      "metadata": {
        "id": "QeWqUbW2fMRs"
      }
    },
    {
      "cell_type": "code",
      "source": [
        "df_julho_nordeste = df_julho[df_julho['abertura_territorio']=='Nordeste']\n",
        "df_julho_nordeste['total']=df_julho_nordeste['qtd'].sum()\n",
        "df_julho_nordeste['%'] = df_julho_nordeste['qtd']/df_julho_nordeste['total'] *100\n",
        "df_julho_nordeste['%'] = df_julho_nordeste['%'].round(2)"
      ],
      "metadata": {
        "colab": {
          "base_uri": "https://localhost:8080/"
        },
        "executionInfo": {
          "status": "ok",
          "timestamp": 1727813854765,
          "user_tz": 180,
          "elapsed": 13,
          "user": {
            "displayName": "",
            "userId": ""
          }
        },
        "outputId": "4cac3c4e-3be1-460d-b18f-41fa177964ea",
        "id": "LdHfmn6xfMRs"
      },
      "execution_count": 72,
      "outputs": [
        {
          "output_type": "stream",
          "name": "stderr",
          "text": [
            "<ipython-input-72-bd2a5bdd4399>:2: SettingWithCopyWarning: \n",
            "A value is trying to be set on a copy of a slice from a DataFrame.\n",
            "Try using .loc[row_indexer,col_indexer] = value instead\n",
            "\n",
            "See the caveats in the documentation: https://pandas.pydata.org/pandas-docs/stable/user_guide/indexing.html#returning-a-view-versus-a-copy\n",
            "  df_julho_nordeste['total']=df_julho_nordeste['qtd'].sum()\n",
            "<ipython-input-72-bd2a5bdd4399>:3: SettingWithCopyWarning: \n",
            "A value is trying to be set on a copy of a slice from a DataFrame.\n",
            "Try using .loc[row_indexer,col_indexer] = value instead\n",
            "\n",
            "See the caveats in the documentation: https://pandas.pydata.org/pandas-docs/stable/user_guide/indexing.html#returning-a-view-versus-a-copy\n",
            "  df_julho_nordeste['%'] = df_julho_nordeste['qtd']/df_julho_nordeste['total'] *100\n",
            "<ipython-input-72-bd2a5bdd4399>:4: SettingWithCopyWarning: \n",
            "A value is trying to be set on a copy of a slice from a DataFrame.\n",
            "Try using .loc[row_indexer,col_indexer] = value instead\n",
            "\n",
            "See the caveats in the documentation: https://pandas.pydata.org/pandas-docs/stable/user_guide/indexing.html#returning-a-view-versus-a-copy\n",
            "  df_julho_nordeste['%'] = df_julho_nordeste['%'].round(2)\n"
          ]
        }
      ]
    },
    {
      "cell_type": "markdown",
      "source": [
        "###Centro"
      ],
      "metadata": {
        "id": "SCq-zcE3fMRs"
      }
    },
    {
      "cell_type": "code",
      "source": [
        "df_julho_centro = df_julho[df_julho['abertura_territorio']=='CentroOeste']\n",
        "df_julho_centro['total']=df_julho_centro['qtd'].sum()\n",
        "df_julho_centro['%'] = df_julho_centro['qtd']/df_julho_centro['total'] *100\n",
        "df_julho_centro['%'] = df_julho_centro['%'].round(2)"
      ],
      "metadata": {
        "colab": {
          "base_uri": "https://localhost:8080/"
        },
        "executionInfo": {
          "status": "ok",
          "timestamp": 1727813854765,
          "user_tz": 180,
          "elapsed": 10,
          "user": {
            "displayName": "",
            "userId": ""
          }
        },
        "outputId": "2acf677e-d665-46b3-d473-827ed4d9f303",
        "id": "3gPHuVTZfMRs"
      },
      "execution_count": 73,
      "outputs": [
        {
          "output_type": "stream",
          "name": "stderr",
          "text": [
            "<ipython-input-73-4942dc08a22c>:2: SettingWithCopyWarning: \n",
            "A value is trying to be set on a copy of a slice from a DataFrame.\n",
            "Try using .loc[row_indexer,col_indexer] = value instead\n",
            "\n",
            "See the caveats in the documentation: https://pandas.pydata.org/pandas-docs/stable/user_guide/indexing.html#returning-a-view-versus-a-copy\n",
            "  df_julho_centro['total']=df_julho_centro['qtd'].sum()\n",
            "<ipython-input-73-4942dc08a22c>:3: SettingWithCopyWarning: \n",
            "A value is trying to be set on a copy of a slice from a DataFrame.\n",
            "Try using .loc[row_indexer,col_indexer] = value instead\n",
            "\n",
            "See the caveats in the documentation: https://pandas.pydata.org/pandas-docs/stable/user_guide/indexing.html#returning-a-view-versus-a-copy\n",
            "  df_julho_centro['%'] = df_julho_centro['qtd']/df_julho_centro['total'] *100\n",
            "<ipython-input-73-4942dc08a22c>:4: SettingWithCopyWarning: \n",
            "A value is trying to be set on a copy of a slice from a DataFrame.\n",
            "Try using .loc[row_indexer,col_indexer] = value instead\n",
            "\n",
            "See the caveats in the documentation: https://pandas.pydata.org/pandas-docs/stable/user_guide/indexing.html#returning-a-view-versus-a-copy\n",
            "  df_julho_centro['%'] = df_julho_centro['%'].round(2)\n"
          ]
        }
      ]
    },
    {
      "cell_type": "markdown",
      "source": [
        "###Norte"
      ],
      "metadata": {
        "id": "tXAkCw9WfMRs"
      }
    },
    {
      "cell_type": "code",
      "source": [
        "df_julho_norte = df_julho[df_julho['abertura_territorio']=='Norte']\n",
        "df_julho_norte['total']=df_julho_norte['qtd'].sum()\n",
        "df_julho_norte['%'] = df_julho_norte['qtd']/df_julho_norte['total'] *100\n",
        "df_julho_norte['%'] = df_julho_norte['%'].round(2)"
      ],
      "metadata": {
        "colab": {
          "base_uri": "https://localhost:8080/"
        },
        "executionInfo": {
          "status": "ok",
          "timestamp": 1727813854765,
          "user_tz": 180,
          "elapsed": 8,
          "user": {
            "displayName": "",
            "userId": ""
          }
        },
        "outputId": "230cf3ad-aa76-41c8-e478-8a1bf01eb2e7",
        "id": "ZdUhUAzKfMRs"
      },
      "execution_count": 74,
      "outputs": [
        {
          "output_type": "stream",
          "name": "stderr",
          "text": [
            "<ipython-input-74-8f9dd06a457d>:2: SettingWithCopyWarning: \n",
            "A value is trying to be set on a copy of a slice from a DataFrame.\n",
            "Try using .loc[row_indexer,col_indexer] = value instead\n",
            "\n",
            "See the caveats in the documentation: https://pandas.pydata.org/pandas-docs/stable/user_guide/indexing.html#returning-a-view-versus-a-copy\n",
            "  df_julho_norte['total']=df_julho_norte['qtd'].sum()\n",
            "<ipython-input-74-8f9dd06a457d>:3: SettingWithCopyWarning: \n",
            "A value is trying to be set on a copy of a slice from a DataFrame.\n",
            "Try using .loc[row_indexer,col_indexer] = value instead\n",
            "\n",
            "See the caveats in the documentation: https://pandas.pydata.org/pandas-docs/stable/user_guide/indexing.html#returning-a-view-versus-a-copy\n",
            "  df_julho_norte['%'] = df_julho_norte['qtd']/df_julho_norte['total'] *100\n",
            "<ipython-input-74-8f9dd06a457d>:4: SettingWithCopyWarning: \n",
            "A value is trying to be set on a copy of a slice from a DataFrame.\n",
            "Try using .loc[row_indexer,col_indexer] = value instead\n",
            "\n",
            "See the caveats in the documentation: https://pandas.pydata.org/pandas-docs/stable/user_guide/indexing.html#returning-a-view-versus-a-copy\n",
            "  df_julho_norte['%'] = df_julho_norte['%'].round(2)\n"
          ]
        }
      ]
    },
    {
      "cell_type": "markdown",
      "source": [
        "###julho consolidado"
      ],
      "metadata": {
        "id": "Xb_mphtcfMRs"
      }
    },
    {
      "cell_type": "code",
      "source": [
        "df_julho_consolidado = pd.concat([df_julho_sul,df_julho_sudeste,df_julho_nordeste,df_julho_centro,df_julho_norte])\n",
        "df_julho_consolidado_plano = df_julho_consolidado[df_julho_consolidado['categoria_abertura_2']=='Tem plano de saúde médico']\n",
        "\n",
        "df_julho_consolidado_plano = df_julho_consolidado_plano.sort_values(by='%')\n",
        "ax=df_julho_consolidado_plano.plot(kind='line',marker = 'o',figsize=(8,8),y='%',x='abertura_territorio')\n",
        "for i, v in enumerate(df_julho_consolidado_plano['%']):\n",
        "    ax.text(i, v + 2, str(v), ha='center', fontsize=12)\n",
        "\n",
        "plt.title('Regiões com mais idosos com plano de saude')\n",
        "plt.legend(loc='best')\n",
        "plt.grid(True)"
      ],
      "metadata": {
        "executionInfo": {
          "status": "ok",
          "timestamp": 1727813860060,
          "user_tz": 180,
          "elapsed": 504,
          "user": {
            "displayName": "",
            "userId": ""
          }
        },
        "colab": {
          "base_uri": "https://localhost:8080/",
          "height": 729
        },
        "id": "_nM0QgrMfMRt",
        "outputId": "2fc3961f-942d-4a3c-857f-49c8f1f60729"
      },
      "execution_count": 76,
      "outputs": [
        {
          "output_type": "display_data",
          "data": {
            "text/plain": [
              "<Figure size 800x800 with 1 Axes>"
            ],
            "image/png": "[encoded data removed]"
          },
          "metadata": {}
        }
      ]
    },
    {
      "cell_type": "code",
      "source": [],
      "metadata": {
        "id": "srr13qT8fMRt",
        "executionInfo": {
          "status": "ok",
          "timestamp": 1727813854765,
          "user_tz": 180,
          "elapsed": 5,
          "user": {
            "displayName": "",
            "userId": ""
          }
        }
      },
      "execution_count": 75,
      "outputs": []
    }
  ]
}